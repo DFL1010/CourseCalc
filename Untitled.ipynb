{
 "cells": [
  {
   "cell_type": "code",
   "execution_count": 3,
   "metadata": {
    "collapsed": true
   },
   "outputs": [],
   "source": [
    "from Course import Course\n",
    "from Mark import Mark\n",
    "from Leg import Leg\n",
    "import csv"
   ]
  },
  {
   "cell_type": "code",
   "execution_count": 4,
   "metadata": {
    "collapsed": true
   },
   "outputs": [],
   "source": [
    "outlst = list()"
   ]
  },
  {
   "cell_type": "code",
   "execution_count": 5,
   "metadata": {
    "collapsed": true
   },
   "outputs": [],
   "source": [
    "a = Mark('A','Northern',50.135,-5.042)\n",
    "b = Mark('B','Bay',50.108,-5.0)\n",
    "c = Mark('C','Central',50.12,-5.033)\n",
    "cn = Mark('Cn','SKB Sails',50.145,-5.02)\n",
    "gy = Mark('Gy',\"Choak’s Pasties\",50.138,-5.06)\n",
    "h = Mark('H','Helston',50.093,-5.013)\n",
    "hd = Mark('Hd','Hine-Downing',50.138,-5.042)\n",
    "m = Mark('M','The Cove Restaurant',50.125,-5.08)\n",
    "n = Mark('N','Nare',50.089,-5.082)\n",
    "ow = Mark('Ow','Old Wall',50.123,-5.009)\n",
    "p = Mark('P','Pendennis Shipyard',50.146,-5.035)\n",
    "pb = Mark('Pb',\"Pasco’s Boatyard\",50.179,-5.024)\n",
    "ph = Mark('Ph','Porthallow',50.085,-5.055)\n",
    "pw = Mark('Pw','Mylor Yacht Harbour',50.175,-5.04)\n",
    "r = Mark('R','Meudon Hotel',50.11,-5.07)\n",
    "s = Mark('S','Sunbeam',50.166,-5.045)\n",
    "sn = Mark('Sn','Sailtech',50.155,-5.03)\n",
    "t = Mark('T','Falmouth Boat Construction',50.161,-5.05)\n",
    "w = Mark('W','Rustler Yachts',50.16,-5.032)\n",
    "wt = Mark('Wt','Ancasta',50.169,-5.032)\n",
    "z = Mark('Z','Penrose Sails',50.136,-5.018)\n",
    "br = Mark('Br','Black Rock',50.145,-5.029)\n",
    "ca = Mark('Ca','Castle',50.15,-5.027)\n",
    "sm = Mark('Sm','St Mawes',50.152,-5.024)\n",
    "g = Mark('G','The Governor',50.153,-5.04)\n",
    "wn = Mark('Wn','West Narrows',50.157,-5.035)\n",
    "en = Mark('En','East Narrows',50.157,-5.032)\n",
    "v = Mark('V','The Vilt',50.166,-5.038)\n",
    "nb = Mark('Nb','Northbank',50.172,-5.038)\n",
    "j = Mark('J','St Just',50.174,-5.029)\n",
    "me = Mark('Me','Messack',50.188,-5.037)\n",
    "ck = Mark('Ck','Carrick',50.193,-5.046)\n",
    "pill = Mark('Pill','Pill',50.201,-5.04)\n",
    "re = Mark('Re','Restronguet',50.197,-5.047)\n",
    "tu = Mark('Tu','Turnaware',50.195,-5.032)\n",
    "gr = Mark('Gr','Greatwood',50.186,-5.044)\n",
    "jb = Mark('Jb','JB',50.187,-5.032)\n",
    "we = Mark('We','Windward',50.182,-5.042)\n"
   ]
  },
  {
   "cell_type": "code",
   "execution_count": null,
   "metadata": {
    "collapsed": true
   },
   "outputs": [],
   "source": []
  },
  {
   "cell_type": "code",
   "execution_count": 6,
   "metadata": {},
   "outputs": [
    {
     "data": {
      "text/plain": [
       "\"Course('Group1', 'Course1', 'J','Jb', 'Gr')\\nCourse('Group1', 'Course2','Wt', 'Jp', 'V')\\nCourse('Group1', 'Course3', 'Wt', 'Me', 'Gr')\\nCourse('Group1', 'Course4', 'Nb', 'Me', 'Gr', 'Nb', 'Me', 'Pw')\\nCourse('Group1', 'Course5', 'Pw','Tu', 'Gr', 'Nb', 'Jb', 'Gr')\\nCourse('Group1', 'Course6', 'J','Tu', 'Gr', 'Pw', 'J', 'Jb', 'Gr')\\nCourse('Group1', 'Course7', 'Nb','Tu', 'Ck', 'Gr', 'Wt', 'Me', 'Gr')\\nCourse('Group2', 'Course1', 'J','Gr', 'Pw')\\nCourse('Group2', 'Course2', 'J','Wx', 'Gr', 'Pw')\\nCourse('Group2', 'Course3', 'J','Me', 'Nb', 'V')\\nCourse('Group2', 'Course4', 'J','Ck', 'Nb', 'J', 'Me', 'Pw')\\nCourse('Group2', 'Course5', 'Nb','Wx', 'Gr', 'Pw', 'S', 'J', 'Wx', 'Gr')\\nCourse('Group2', 'Course6', 'J','Re', 'Gr', 'J', 'Ck', 'Gr')\\nCourse('Group2', 'Course7', 'J','Ck', 'We', 'V', 'J', 'Ck', 'We', 'Pw')\\nCourse('Group3', 'Course1', 'Pb','We', 'J')\\nCourse('Group3', 'Course2', 'Pb','We', 'V')\\nCourse('Group3', 'Course3', 'Pb','We', 'V', 'Wt',)\\nCourse('Group3', 'Course4', 'Pb','We', 'Pw', 'S', 'Wt', 'J', 'Pb', 'We', 'Nb')\\nCourse('Grouo3', 'Course5', 'Pb','We', 'Pw', 'S', 'Pb', 'We', 'Wt')\\nCourse('Group3', 'Course6', 'Pb','We', 'V', 'Wt', 'Pb', 'We', 'Nb', 'J')\\nCourse('Group3','Course7','Pb','We','Nb','S','V','Pb','We','Pw','S','Wt')\\nCourse('Group4', 'Course1', 'Jb','Pw', 'J')\\nCourse('Group4', 'Course2', 'Jb','Pw', 'Wt')\\nCourse('Group4', 'Course3', 'Jb','Pw', 'V', 'Wt')\\nCourse('Group4', 'Course4', 'Jb','Pw', 'J', 'Me', 'Pw', 'J')\\nCourse('Group4', 'Course5', 'Jb','Pw', 'J', 'Tu', 'Pw', 'J')\\nCourse('Group4', 'Course6', 'Jb','S', 'V', 'Pb', 'Jb', 'S', 'V')\\nCourse('Group4', 'Course7', 'Jb','S', 'Pb', 'V', 'Wt', 'Jb', 'Pw', 'J')\\nCourse('Group5', 'Course1', 'Me','Pw', 'Jb')\\nCourse('Group5', 'Course2', 'Me','Pw', 'J')\\nCourse('Group5', 'Course3', 'Me', 'V', 'Wt')\\nCourse('Group5', 'Course4', 'Jb','Nb', 'J', 'Pb', 'Me', 'Nb', 'J', 'Pb')\\nCourse('Group5', 'Course5', 'Jb', 'V', 'Wt', 'Me', 'Nb', 'J')\\nCourse('Group5', 'Course6', 'Jb', 'V', 'Pb', 'Gr', 'Ck', 'Pw', 'Pb')\\nCourse('Group5', 'Course7', 'Jb', 'Nb', 'J', 'Pb', 'Re', 'Nb', 'J', 'Pb')\\nCourse('Group6', 'Course1', 'Jb','J', 'Pb')\\nCourse('Group6', 'Course2', 'Pw','Wt', 'Jb')\\nCourse('Group6', 'Course3', 'Pw','J', 'Pb')\\nCourse('Group6', 'Course4', 'Gr','J', 'Pb', 'Me', 'Gr', 'J', 'Me')\\nCourse('Group6', 'Course5', 'Gr','Wt', 'J', 'Ck', 'J', 'Pb')\\nCourse('Group6', 'Course6', 'Gr','J', 'Re', 'Gr', 'Wt', 'Pb')\\nCourse('Group6', 'Course7', 'Gr','Wt', 'J', 'Re', 'Ck', 'J', 'Pb')\\nCourse('Group7', 'Course1', 'We','Pb', 'Jb')\\nCourse('Group7', 'Course2', 'Pw','J', 'Wt', 'V')\\nCourse('Group7', 'Course3', 'We','Pb', 'Me')\\nCourse('Group7', 'Course4', 'We','Pb', 'Ck')\\nCourse('Group7', 'Course5', 'We','Pb', 'Ck', 'We', 'Pb', 'Me')\\nCourse('Group7', 'Course6', 'We','Pb', 'Re', 'Gr', 'We', 'Pb', 'Me')\\nCourse('Group7', 'Course7', 'We','Pb', 'Re', 'Gr', 'We', 'Pb', 'Ck')\\nCourse('Group8', 'Course1', 'We', 'Jb', 'Me')\\nCourse('Group8', 'Course2', 'Pw','Jb', 'Ck')\\nCourse('Group8', 'Course3', 'Pw','Pb', 'Wt', 'V')\\nCourse('Group8', 'Course4', 'Pw','Jb', 'Me', 'Pw', 'Nb', 'Jb', 'Me')\\nCourse('Group8', 'Course5', 'Pw','Jb', 'Gr', 'Tu', 'Ck', 'Pw', 'Jb', 'Me')\\nCourse('Group8', 'Course6', 'Pw','Jb', 'Gr', 'Tu', 'Ck', 'Pw', 'Jb', 'Re')\\nCourse('Group8', 'Course7', 'Pw','Tu', 'Re', 'V', 'Jb', 'Ck')\\n\""
      ]
     },
     "execution_count": 6,
     "metadata": {},
     "output_type": "execute_result"
    }
   ],
   "source": [
    "'''Course('Group1', 'Course1', 'J','Jb', 'Gr')\n",
    "Course('Group1', 'Course2','Wt', 'Jp', 'V')\n",
    "Course('Group1', 'Course3', 'Wt', 'Me', 'Gr')\n",
    "Course('Group1', 'Course4', 'Nb', 'Me', 'Gr', 'Nb', 'Me', 'Pw')\n",
    "Course('Group1', 'Course5', 'Pw','Tu', 'Gr', 'Nb', 'Jb', 'Gr')\n",
    "Course('Group1', 'Course6', 'J','Tu', 'Gr', 'Pw', 'J', 'Jb', 'Gr')\n",
    "Course('Group1', 'Course7', 'Nb','Tu', 'Ck', 'Gr', 'Wt', 'Me', 'Gr')\n",
    "Course('Group2', 'Course1', 'J','Gr', 'Pw')\n",
    "Course('Group2', 'Course2', 'J','Wx', 'Gr', 'Pw')\n",
    "Course('Group2', 'Course3', 'J','Me', 'Nb', 'V')\n",
    "Course('Group2', 'Course4', 'J','Ck', 'Nb', 'J', 'Me', 'Pw')\n",
    "Course('Group2', 'Course5', 'Nb','Wx', 'Gr', 'Pw', 'S', 'J', 'Wx', 'Gr')\n",
    "Course('Group2', 'Course6', 'J','Re', 'Gr', 'J', 'Ck', 'Gr')\n",
    "Course('Group2', 'Course7', 'J','Ck', 'We', 'V', 'J', 'Ck', 'We', 'Pw')\n",
    "Course('Group3', 'Course1', 'Pb','We', 'J')\n",
    "Course('Group3', 'Course2', 'Pb','We', 'V')\n",
    "Course('Group3', 'Course3', 'Pb','We', 'V', 'Wt',)\n",
    "Course('Group3', 'Course4', 'Pb','We', 'Pw', 'S', 'Wt', 'J', 'Pb', 'We', 'Nb')\n",
    "Course('Grouo3', 'Course5', 'Pb','We', 'Pw', 'S', 'Pb', 'We', 'Wt')\n",
    "Course('Group3', 'Course6', 'Pb','We', 'V', 'Wt', 'Pb', 'We', 'Nb', 'J')\n",
    "Course('Group3','Course7','Pb','We','Nb','S','V','Pb','We','Pw','S','Wt')\n",
    "Course('Group4', 'Course1', 'Jb','Pw', 'J')\n",
    "Course('Group4', 'Course2', 'Jb','Pw', 'Wt')\n",
    "Course('Group4', 'Course3', 'Jb','Pw', 'V', 'Wt')\n",
    "Course('Group4', 'Course4', 'Jb','Pw', 'J', 'Me', 'Pw', 'J')\n",
    "Course('Group4', 'Course5', 'Jb','Pw', 'J', 'Tu', 'Pw', 'J')\n",
    "Course('Group4', 'Course6', 'Jb','S', 'V', 'Pb', 'Jb', 'S', 'V')\n",
    "Course('Group4', 'Course7', 'Jb','S', 'Pb', 'V', 'Wt', 'Jb', 'Pw', 'J')\n",
    "Course('Group5', 'Course1', 'Me','Pw', 'Jb')\n",
    "Course('Group5', 'Course2', 'Me','Pw', 'J')\n",
    "Course('Group5', 'Course3', 'Me', 'V', 'Wt')\n",
    "Course('Group5', 'Course4', 'Jb','Nb', 'J', 'Pb', 'Me', 'Nb', 'J', 'Pb')\n",
    "Course('Group5', 'Course5', 'Jb', 'V', 'Wt', 'Me', 'Nb', 'J')\n",
    "Course('Group5', 'Course6', 'Jb', 'V', 'Pb', 'Gr', 'Ck', 'Pw', 'Pb')\n",
    "Course('Group5', 'Course7', 'Jb', 'Nb', 'J', 'Pb', 'Re', 'Nb', 'J', 'Pb')\n",
    "Course('Group6', 'Course1', 'Jb','J', 'Pb')\n",
    "Course('Group6', 'Course2', 'Pw','Wt', 'Jb')\n",
    "Course('Group6', 'Course3', 'Pw','J', 'Pb')\n",
    "Course('Group6', 'Course4', 'Gr','J', 'Pb', 'Me', 'Gr', 'J', 'Me')\n",
    "Course('Group6', 'Course5', 'Gr','Wt', 'J', 'Ck', 'J', 'Pb')\n",
    "Course('Group6', 'Course6', 'Gr','J', 'Re', 'Gr', 'Wt', 'Pb')\n",
    "Course('Group6', 'Course7', 'Gr','Wt', 'J', 'Re', 'Ck', 'J', 'Pb')\n",
    "Course('Group7', 'Course1', 'We','Pb', 'Jb')\n",
    "Course('Group7', 'Course2', 'Pw','J', 'Wt', 'V')\n",
    "Course('Group7', 'Course3', 'We','Pb', 'Me')\n",
    "Course('Group7', 'Course4', 'We','Pb', 'Ck')\n",
    "Course('Group7', 'Course5', 'We','Pb', 'Ck', 'We', 'Pb', 'Me')\n",
    "Course('Group7', 'Course6', 'We','Pb', 'Re', 'Gr', 'We', 'Pb', 'Me')\n",
    "Course('Group7', 'Course7', 'We','Pb', 'Re', 'Gr', 'We', 'Pb', 'Ck')\n",
    "Course('Group8', 'Course1', 'We', 'Jb', 'Me')\n",
    "Course('Group8', 'Course2', 'Pw','Jb', 'Ck')\n",
    "Course('Group8', 'Course3', 'Pw','Pb', 'Wt', 'V')\n",
    "Course('Group8', 'Course4', 'Pw','Jb', 'Me', 'Pw', 'Nb', 'Jb', 'Me')\n",
    "Course('Group8', 'Course5', 'Pw','Jb', 'Gr', 'Tu', 'Ck', 'Pw', 'Jb', 'Me')\n",
    "Course('Group8', 'Course6', 'Pw','Jb', 'Gr', 'Tu', 'Ck', 'Pw', 'Jb', 'Re')\n",
    "Course('Group8', 'Course7', 'Pw','Tu', 'Re', 'V', 'Jb', 'Ck')\n",
    "'''"
   ]
  },
  {
   "cell_type": "code",
   "execution_count": null,
   "metadata": {
    "collapsed": true
   },
   "outputs": [],
   "source": []
  },
  {
   "cell_type": "code",
   "execution_count": null,
   "metadata": {
    "collapsed": true
   },
   "outputs": [],
   "source": []
  },
  {
   "cell_type": "code",
   "execution_count": 7,
   "metadata": {
    "collapsed": true
   },
   "outputs": [],
   "source": [
    "#Course('Group1', 'Course1', 'J','Jb', 'Gr')\n",
    "leglist = [Leg(j, jb, 360), Leg(jb, gr, 360), Leg(gr, j, 360)]\n",
    "for leg in leglist:\n",
    "    outlst.append((round(leg.distance(), 2), leg.angle))"
   ]
  },
  {
   "cell_type": "code",
   "execution_count": 8,
   "metadata": {
    "collapsed": true
   },
   "outputs": [],
   "source": [
    "#'Wt', 'Jp', 'V'\n",
    "leglist = [Leg(wt, jb, 360), Leg(jb, v, 360), Leg(v, wt, 360)]\n",
    "for leg in leglist:\n",
    "    outlst.append((round(leg.distance(), 2), leg.angle))"
   ]
  },
  {
   "cell_type": "code",
   "execution_count": 9,
   "metadata": {
    "collapsed": true
   },
   "outputs": [],
   "source": [
    "#'Wt', 'Jp', 'V'\n",
    "leglist = [Leg(wt, jb, 360), Leg(jb, v, 360), Leg(v, wt, 360)]\n",
    "for leg in leglist:\n",
    "    outlst.append((round(leg.distance(), 2), leg.angle))"
   ]
  },
  {
   "cell_type": "code",
   "execution_count": 10,
   "metadata": {
    "collapsed": true
   },
   "outputs": [],
   "source": [
    "#Course('Group1', 'Course3', 'Wt', 'Me', 'Gr')\n",
    "leglist = [Leg(wt, me, 360), Leg(me, gr, 360), Leg(gr, wt, 360)]\n",
    "for leg in leglist:\n",
    "    outlst.append((round(leg.distance(), 2), leg.angle))"
   ]
  },
  {
   "cell_type": "code",
   "execution_count": 11,
   "metadata": {
    "collapsed": true
   },
   "outputs": [],
   "source": [
    "#Course('Group1', 'Course5', 'Pw','Tu', 'Gr', 'Nb', 'Jb', 'Gr')\n",
    "leglist = [Leg(pw, tu, 360), Leg(tu, gr, 360), Leg(gr, nb, 360), Leg(nb, jb, 360), Leg(jb, gr, 360), Leg(gr, pw, 360)]\n",
    "for leg in leglist:\n",
    "    outlst.append((round(leg.distance(), 2), leg.angle))"
   ]
  },
  {
   "cell_type": "code",
   "execution_count": 12,
   "metadata": {
    "collapsed": true
   },
   "outputs": [],
   "source": [
    "#Course('Group1', 'Course4', 'Nb', 'Me', 'Gr', 'Nb', 'Me', 'Pw')\n",
    "leglist = [Leg(nb, me, 360), Leg(me, gr, 360), Leg(gr, nb, 360), Leg(nb, me, 360), Leg(me, pw, 360), Leg(pw, nb, 360)]\n",
    "for leg in leglist:\n",
    "    outlst.append((round(leg.distance(), 2), leg.angle))"
   ]
  },
  {
   "cell_type": "code",
   "execution_count": 13,
   "metadata": {
    "collapsed": true
   },
   "outputs": [],
   "source": [
    "#Course('Group1', 'Course6', 'J','Tu', 'Gr', 'Pw', 'J', 'Jb', 'Gr')\n",
    "leglist = [Leg(j, tu, 360), Leg(tu, gr, 360), Leg(gr, pw, 360), Leg(pw, j, 360), Leg(j, jb, 360), Leg(jb, gr, 360), Leg(gr, j, 360)]\n",
    "for leg in leglist:\n",
    "    outlst.append((round(leg.distance(), 2), leg.angle))"
   ]
  },
  {
   "cell_type": "code",
   "execution_count": 14,
   "metadata": {
    "collapsed": true
   },
   "outputs": [],
   "source": [
    "#Course('Group1', 'Course7', 'Nb','Tu', 'Ck', 'Gr', 'Wt', 'Me', 'Gr')\n",
    "leglist = [Leg(nb, tu, 360), Leg(tu, ck, 360), Leg(ck, gr, 360), Leg(gr, wt, 360), Leg(wt, me, 360), Leg(me, gr, 360), Leg(gr, nb, 360)]\n",
    "for leg in leglist:\n",
    "    outlst.append((round(leg.distance(), 2), leg.angle))"
   ]
  },
  {
   "cell_type": "code",
   "execution_count": 15,
   "metadata": {
    "collapsed": true
   },
   "outputs": [],
   "source": [
    "#Course('Group2', 'Course1', 'J','Gr', 'Pw')\n",
    "leglist = [Leg(j, gr, 315), Leg(gr, pw, 315), Leg(pw, j, 315)]\n",
    "for leg in leglist:\n",
    "    outlst.append((round(leg.distance(), 2), leg.angle))"
   ]
  },
  {
   "cell_type": "code",
   "execution_count": 16,
   "metadata": {
    "collapsed": true
   },
   "outputs": [],
   "source": [
    "#Course('Group2', 'Course3', 'J','Me', 'Nb', 'V')\n",
    "leglist = [Leg(j, me, 315), Leg(me, nb, 315), Leg(nb, v, 315), Leg(v, j, 315)]\n",
    "for leg in leglist:\n",
    "    outlst.append((round(leg.distance(), 2), leg.angle))"
   ]
  },
  {
   "cell_type": "code",
   "execution_count": 17,
   "metadata": {
    "collapsed": true
   },
   "outputs": [],
   "source": [
    "#Course('Group2', 'Course4', 'J','Ck', 'Nb', 'J', 'Me', 'Pw')\n",
    "leglist = [Leg(j, ck, 315), Leg(ck, nb, 315), Leg(nb, j, 315), Leg(j, me, 315), Leg(me, pw, 315), Leg(pw, j, 315)]\n",
    "for leg in leglist:\n",
    "    outlst.append((round(leg.distance(), 2), leg.angle))"
   ]
  },
  {
   "cell_type": "code",
   "execution_count": 18,
   "metadata": {
    "collapsed": true
   },
   "outputs": [],
   "source": [
    "#Course('Group2', 'Course6', 'J','Re', 'Gr', 'J', 'Ck', 'Gr')\n",
    "leglist = [Leg(j, re, 315), Leg(re, gr, 315), Leg(gr, j, 315), Leg(j, ck, 315), Leg(ck,gr, 315), Leg(gr, j, 315)]\n",
    "for leg in leglist:\n",
    "    outlst.append((round(leg.distance(), 2), leg.angle))"
   ]
  },
  {
   "cell_type": "code",
   "execution_count": 19,
   "metadata": {
    "collapsed": true
   },
   "outputs": [],
   "source": [
    "#Course('Group2', 'Course7', 'J','Ck', 'We', 'V', 'J', 'Ck', 'We', 'Pw')\n",
    "leglist = [Leg(j, ck, 315), Leg(ck, we, 315), Leg(v, j, 315), Leg(j, ck, 315), Leg(ck,we, 315), Leg(we, pw, 315), Leg(pw, j, 315)]\n",
    "for leg in leglist:\n",
    "    outlst.append((round(leg.distance(), 2), leg.angle))"
   ]
  },
  {
   "cell_type": "code",
   "execution_count": 20,
   "metadata": {
    "collapsed": true
   },
   "outputs": [],
   "source": [
    "#Course('Group3', 'Course1', 'Pb','We', 'J')\n",
    "leglist = [Leg(pb, we, 270), Leg(we, j, 270), Leg(j, pb, 270)]\n",
    "for leg in leglist:\n",
    "    outlst.append((round(leg.distance(), 2), leg.angle))"
   ]
  },
  {
   "cell_type": "code",
   "execution_count": 21,
   "metadata": {
    "collapsed": true
   },
   "outputs": [],
   "source": [
    "#Course('Group3', 'Course2', 'Pb','We', 'V')\n",
    "leglist = [Leg(pb, we, 270), Leg(we, v, 270), Leg(v, pb, 270)]\n",
    "for leg in leglist:\n",
    "    outlst.append((round(leg.distance(), 2), leg.angle))"
   ]
  },
  {
   "cell_type": "code",
   "execution_count": 22,
   "metadata": {
    "collapsed": true
   },
   "outputs": [],
   "source": [
    "#Course('Group3', 'Course3', 'Pb','We', 'V', 'Wt',)\n",
    "leglist = [Leg(pb, we, 270), Leg(we, v, 270), Leg(v, wt, 270)]\n",
    "for leg in leglist:\n",
    "    outlst.append((round(leg.distance(), 2), leg.angle))"
   ]
  },
  {
   "cell_type": "code",
   "execution_count": 23,
   "metadata": {
    "collapsed": true
   },
   "outputs": [],
   "source": [
    "#Course('Group3', 'Course4', 'Pb','We', 'Pw', 'S', 'Wt', 'J', 'Pb', 'We', 'Nb')\n",
    "leglist = [Leg(pb, we, 270), Leg(we, pw, 270), Leg(pw, s, 270), Leg(s, wt, 270), Leg(wt, j, 270), Leg(j, pb, 270), Leg(pb, we, 270), Leg(we, nb, 270), Leg(nb, pb, 270)]\n",
    "for leg in leglist:\n",
    "    outlst.append((round(leg.distance(), 2), leg.angle))"
   ]
  },
  {
   "cell_type": "code",
   "execution_count": 24,
   "metadata": {
    "collapsed": true
   },
   "outputs": [],
   "source": [
    "#Course('Grouo3', 'Course5', 'Pb','We', 'Pw', 'S', 'Pb', 'We', 'Wt')\n",
    "leglist = [Leg(pb, we, 270), Leg(we, pw, 270), Leg(pw, s, 270), Leg(s, pb, 270), Leg(pb, we, 270), Leg(we, wt, 270), Leg(wt, pb, 270)]\n",
    "for leg in leglist:\n",
    "    outlst.append((round(leg.distance(), 2), leg.angle))"
   ]
  },
  {
   "cell_type": "code",
   "execution_count": 25,
   "metadata": {
    "collapsed": true
   },
   "outputs": [],
   "source": [
    "#Course('Group3', 'Course6', 'Pb','We', 'V', 'Wt', 'Pb', 'We', 'Nb', 'J')\n",
    "leglist = [Leg(pb, we, 270), Leg(we, v, 270), Leg(v, wt, 270), Leg(wt, pb, 270), Leg(pb, we, 270), Leg(we, nb, 270), Leg(nb, j, 270), Leg(j, pb, 270)]\n",
    "for leg in leglist:\n",
    "    outlst.append((round(leg.distance(), 2), leg.angle))"
   ]
  },
  {
   "cell_type": "code",
   "execution_count": 26,
   "metadata": {
    "collapsed": true
   },
   "outputs": [],
   "source": [
    "#Course('Group3','Course7','Pb','We','Nb','S','V','Pb','We','Pw','S','Wt')\n",
    "leglist = [Leg(pb, we, 270), Leg(we, s, 270), Leg(s, v, 270), Leg(v, pb, 270), Leg(pb, we, 270), Leg(we, pw, 270), Leg(pw, s, 270), Leg(s, wt, 270), Leg(wt, pb, 270)]\n",
    "for leg in leglist:\n",
    "    outlst.append((round(leg.distance(), 2), leg.angle))"
   ]
  },
  {
   "cell_type": "code",
   "execution_count": 27,
   "metadata": {
    "collapsed": true
   },
   "outputs": [],
   "source": [
    "#Course('Group4', 'Course1', 'Jb','Pw', 'J')\n",
    "leglist = [Leg(jb, pw, 215), Leg(pw, j, 215), Leg(j, jb, 215)]\n",
    "for leg in leglist:\n",
    "    outlst.append((round(leg.distance(), 2), leg.angle))"
   ]
  },
  {
   "cell_type": "code",
   "execution_count": 28,
   "metadata": {
    "collapsed": true
   },
   "outputs": [],
   "source": [
    "#Course('Group4', 'Course2', 'Jb','Pw', 'Wt')\n",
    "leglist = [Leg(jb, pw, 215), Leg(pw, wt, 215), Leg(wt, jb, 215)]\n",
    "for leg in leglist:\n",
    "    outlst.append((round(leg.distance(), 2), leg.angle))"
   ]
  },
  {
   "cell_type": "code",
   "execution_count": 29,
   "metadata": {
    "collapsed": true
   },
   "outputs": [],
   "source": [
    "#Course('Group4', 'Course3', 'Jb','Pw', 'V', 'Wt')\n",
    "leglist = [Leg(jb, pw, 215), Leg(pw, v, 215), Leg(v, wt, 215), Leg(wt, jb, 215)]\n",
    "for leg in leglist:\n",
    "    outlst.append((round(leg.distance(), 2), leg.angle))"
   ]
  },
  {
   "cell_type": "code",
   "execution_count": 30,
   "metadata": {
    "collapsed": true
   },
   "outputs": [],
   "source": [
    "#Course('Group4', 'Course4', 'Jb','Pw', 'J', 'Me', 'Pw', 'J')\n",
    "leglist = [Leg(jb, pw, 215), Leg(pw, j, 215), Leg(j, me, 215), Leg(me, pw, 215), Leg(pw, j, 215), Leg(j, jb, 215)]\n",
    "for leg in leglist:\n",
    "    outlst.append((round(leg.distance(), 2), leg.angle))"
   ]
  },
  {
   "cell_type": "code",
   "execution_count": 31,
   "metadata": {
    "collapsed": true
   },
   "outputs": [],
   "source": [
    "#Course('Group4', 'Course5', 'Jb','Pw', 'J', 'Tu', 'Pw', 'J')\n",
    "leglist = [Leg(jb, pw, 215), Leg(pw, j, 215), Leg(j, tu, 215), Leg(tu, pw, 215), Leg(pw, j, 215), Leg(j, jb, 215)]\n",
    "for leg in leglist:\n",
    "    outlst.append((round(leg.distance(), 2), leg.angle))"
   ]
  },
  {
   "cell_type": "code",
   "execution_count": 32,
   "metadata": {
    "collapsed": true
   },
   "outputs": [],
   "source": [
    "#Course('Group4', 'Course6', 'Jb','S', 'V', 'Pb', 'Jb', 'S', 'V')\n",
    "leglist = [Leg(jb, s, 215), Leg(s, v, 215), Leg(v, pb, 215), Leg(pb, jb, 215), Leg(jb, s, 215), Leg(s, v, 215), Leg(v, jb, 215)]\n",
    "for leg in leglist:\n",
    "    outlst.append((round(leg.distance(), 2), leg.angle))"
   ]
  },
  {
   "cell_type": "code",
   "execution_count": 33,
   "metadata": {
    "collapsed": true
   },
   "outputs": [],
   "source": [
    "#Course('Group4', 'Course7', 'Jb','S', 'Pb', 'V', 'Wt', 'Jb', 'Pw', 'J')\n",
    "leglist = [Leg(jb, s, 215), Leg(s, pb, 215), Leg(pb, v, 215), Leg(v, wt, 215), Leg(wt, jb, 215), Leg(jb, pw, 215), Leg(pw, j, 215), Leg(j, jb, 215)]\n",
    "for leg in leglist:\n",
    "    outlst.append((round(leg.distance(), 2), leg.angle))"
   ]
  },
  {
   "cell_type": "code",
   "execution_count": 34,
   "metadata": {
    "collapsed": true
   },
   "outputs": [],
   "source": [
    "#Course('Group5', 'Course1', 'Me','Pw', 'Jb')\n",
    "leglist = [Leg(me, pw, 180), Leg(pw, jb, 180), Leg(jb, me, 180)]\n",
    "for leg in leglist:\n",
    "    outlst.append((round(leg.distance(), 2), leg.angle))"
   ]
  },
  {
   "cell_type": "code",
   "execution_count": 35,
   "metadata": {
    "collapsed": true
   },
   "outputs": [],
   "source": [
    "#Course('Group5', 'Course2', 'Me','Pw', 'J')\n",
    "leglist = [Leg(me, pw, 180), Leg(pw, j, 180), Leg(j, me, 180)]\n",
    "for leg in leglist:\n",
    "    outlst.append((round(leg.distance(), 2), leg.angle))"
   ]
  },
  {
   "cell_type": "code",
   "execution_count": 36,
   "metadata": {
    "collapsed": true
   },
   "outputs": [],
   "source": [
    "#Course('Group5', 'Course3', 'Me', 'V', 'Wt')\n",
    "leglist = [Leg(me, v, 180), Leg(v, wt, 180), Leg(wt, me, 180)]\n",
    "for leg in leglist:\n",
    "    outlst.append((round(leg.distance(), 2), leg.angle))"
   ]
  },
  {
   "cell_type": "code",
   "execution_count": 37,
   "metadata": {
    "collapsed": true
   },
   "outputs": [],
   "source": [
    "#Course('Group5', 'Course4', 'Jb','Nb', 'J', 'Pb', 'Me', 'Nb', 'J', 'Pb')\n",
    "leglist = [Leg(jb, nb, 180), Leg(nb, j, 180), Leg(j, pb, 180), Leg(pb, me, 180), Leg(me, nb, 180), Leg(nb, j, 180), Leg(j, pb, 180), Leg(pb, jb, 180)]\n",
    "for leg in leglist:\n",
    "    outlst.append((round(leg.distance(), 2), leg.angle))"
   ]
  },
  {
   "cell_type": "code",
   "execution_count": 38,
   "metadata": {
    "collapsed": true
   },
   "outputs": [],
   "source": [
    "#Course('Group5', 'Course5', 'Jb', 'V', 'Wt', 'Me', 'Nb', 'J')\n",
    "leglist = [Leg(jb, v, 180), Leg(v, wt, 180), Leg(wt, me, 180), Leg(me, nb, 180), Leg(nb, j, 180), Leg(j, jb, 180)]\n",
    "for leg in leglist:\n",
    "    outlst.append((round(leg.distance(), 2), leg.angle))"
   ]
  },
  {
   "cell_type": "code",
   "execution_count": 39,
   "metadata": {
    "collapsed": true
   },
   "outputs": [],
   "source": [
    "#Course('Group5', 'Course6', 'Jb', 'V', 'Pb', 'Gr', 'Ck', 'Pw', 'Pb')\n",
    "leglist = [Leg(jb, v, 180), Leg(v, pb, 180), Leg(pb, gr, 180), Leg(gr, ck, 180), Leg(ck, pw, 180), Leg(pw, pb, 180), Leg(pb, jb, 180)]\n",
    "for leg in leglist:\n",
    "    outlst.append((round(leg.distance(), 2), leg.angle))"
   ]
  },
  {
   "cell_type": "code",
   "execution_count": 40,
   "metadata": {
    "collapsed": true
   },
   "outputs": [],
   "source": [
    "#Course('Group5', 'Course7', 'Jb', 'Nb', 'J', 'Pb', 'Re', 'Nb', 'J', 'Pb')\n",
    "leglist = [Leg(jb, nb, 180), Leg(nb, j, 180), Leg(j, pb, 180), Leg(pb, re, 180), Leg(re, nb, 180), Leg(nb, j, 180), Leg(j, pb, 180), Leg(pb, jb, 180)]\n",
    "for leg in leglist:\n",
    "    outlst.append((round(leg.distance(), 2), leg.angle))"
   ]
  },
  {
   "cell_type": "code",
   "execution_count": 41,
   "metadata": {
    "collapsed": true
   },
   "outputs": [],
   "source": [
    "#Course('Group6', 'Course1', 'Jb','J', 'Pb')\n",
    "leglist = [Leg(jb, j, 135), Leg(j, pb, 135), Leg(pb, jb, 135)]\n",
    "for leg in leglist:\n",
    "    outlst.append((round(leg.distance(), 2), leg.angle))"
   ]
  },
  {
   "cell_type": "code",
   "execution_count": 42,
   "metadata": {
    "collapsed": true
   },
   "outputs": [],
   "source": [
    "#Course('Group6', 'Course2', 'Pw','Wt', 'Jb')\n",
    "leglist = [Leg(pw, wt, 135), Leg(wt, jb, 135), Leg(jb, pw, 135)]\n",
    "for leg in leglist:\n",
    "    outlst.append((round(leg.distance(), 2), leg.angle))"
   ]
  },
  {
   "cell_type": "code",
   "execution_count": 43,
   "metadata": {
    "collapsed": true
   },
   "outputs": [],
   "source": [
    "#Course('Group6', 'Course3', 'Pw','J', 'Pb')\n",
    "leglist = [Leg(pw, j, 135), Leg(j, pb, 135), Leg(pb, pw, 135)]\n",
    "for leg in leglist:\n",
    "    outlst.append((round(leg.distance(), 2), leg.angle))"
   ]
  },
  {
   "cell_type": "code",
   "execution_count": 44,
   "metadata": {
    "collapsed": true
   },
   "outputs": [],
   "source": [
    "#Course('Group6', 'Course4', 'Gr','J', 'Pb', 'Me', 'Gr', 'J', 'Me')\n",
    "leglist = [Leg(gr, j, 135), Leg(j, pb, 135), Leg(pb, me, 135),Leg(me, gr, 135), Leg(gr, j, 135), Leg(j, me, 135), Leg(me, gr, 135)]\n",
    "for leg in leglist:\n",
    "    outlst.append((round(leg.distance(), 2), leg.angle))"
   ]
  },
  {
   "cell_type": "code",
   "execution_count": 45,
   "metadata": {
    "collapsed": true
   },
   "outputs": [],
   "source": [
    "#Course('Group6', 'Course5', 'Gr','Wt', 'J', 'Ck', 'J', 'Pb')\n",
    "leglist = [Leg(gr, wt, 135), Leg(wt, j, 135), Leg(j, pb, 135),Leg(pb, gr, 135)]\n",
    "for leg in leglist:\n",
    "    outlst.append((round(leg.distance(), 2), leg.angle))"
   ]
  },
  {
   "cell_type": "code",
   "execution_count": 46,
   "metadata": {
    "collapsed": true
   },
   "outputs": [],
   "source": [
    "#Course('Group6', 'Course6', 'Gr','J', 'Re', 'Gr', 'Wt', 'Pb')\n",
    "leglist = [Leg(gr, j, 135), Leg(j, re, 135), Leg(re, gr, 135),Leg(gr, wt, 135), Leg(wt, pb, 135), Leg(pb, gr, 135)]\n",
    "for leg in leglist:\n",
    "    outlst.append((round(leg.distance(), 2), leg.angle))"
   ]
  },
  {
   "cell_type": "code",
   "execution_count": 47,
   "metadata": {
    "collapsed": true
   },
   "outputs": [],
   "source": [
    "#Course('Group6', 'Course7', 'Gr','Wt', 'J', 'Re', 'Ck', 'J', 'Pb')\n",
    "leglist = [Leg(gr, wt, 135), Leg(wt, j, 135), Leg(j, re, 135),Leg(re, ck, 135), Leg(ck, j, 135), Leg(j, pb, 135), Leg(pb, gr, 135)]\n",
    "for leg in leglist:\n",
    "    outlst.append((round(leg.distance(), 2), leg.angle))"
   ]
  },
  {
   "cell_type": "code",
   "execution_count": 48,
   "metadata": {
    "collapsed": true
   },
   "outputs": [],
   "source": [
    "#Course('Group7', 'Course1', 'We','Pb', 'Jb')\n",
    "leglist = [Leg(we, pb, 90), Leg(pb, jb, 90), Leg(jb, we, 90)]\n",
    "for leg in leglist:\n",
    "    outlst.append((round(leg.distance(), 2), leg.angle))"
   ]
  },
  {
   "cell_type": "code",
   "execution_count": 49,
   "metadata": {
    "collapsed": true
   },
   "outputs": [],
   "source": [
    "#Course('Group7', 'Course2', 'Pw','J', 'Wt', 'V')\n",
    "leglist = [Leg(pw, j, 90), Leg(j, wt, 90), Leg(wt, v, 90), Leg(v, pw, 90)]\n",
    "for leg in leglist:\n",
    "    outlst.append((round(leg.distance(), 2), leg.angle))"
   ]
  },
  {
   "cell_type": "code",
   "execution_count": 50,
   "metadata": {
    "collapsed": true
   },
   "outputs": [],
   "source": [
    "#Course('Group7', 'Course3', 'We','Pb', 'Me')\n",
    "leglist = [Leg(we, pb, 90), Leg(pb, me, 90), Leg(me, we, 90)]\n",
    "for leg in leglist:\n",
    "    outlst.append((round(leg.distance(), 2), leg.angle))"
   ]
  },
  {
   "cell_type": "code",
   "execution_count": 51,
   "metadata": {
    "collapsed": true
   },
   "outputs": [],
   "source": [
    "#Course('Group7', 'Course4', 'We','Pb', 'Ck')\n",
    "leglist = [Leg(we, pb, 90), Leg(pb, ck, 90), Leg(ck, we, 90)]\n",
    "for leg in leglist:\n",
    "    outlst.append((round(leg.distance(), 2), leg.angle))"
   ]
  },
  {
   "cell_type": "code",
   "execution_count": 52,
   "metadata": {
    "collapsed": true
   },
   "outputs": [],
   "source": [
    "#Course('Group7', 'Course5', 'We','Pb', 'Ck', 'We', 'Pb', 'Me')\n",
    "leglist = [Leg(we, pb, 90), Leg(pb, ck, 90), Leg(ck, we, 90), Leg(we, pb, 90), Leg(pb, me, 90), Leg(me, we, 90)]\n",
    "for leg in leglist:\n",
    "    outlst.append((round(leg.distance(), 2), leg.angle))"
   ]
  },
  {
   "cell_type": "code",
   "execution_count": 53,
   "metadata": {
    "collapsed": true
   },
   "outputs": [],
   "source": [
    "#Course('Group7', 'Course6', 'We','Pb', 'Re', 'Gr', 'We', 'Pb', 'Me')\n",
    "leglist = [Leg(we, pb, 90), Leg(pb, re, 90), Leg(re, gr, 90), Leg(gr, we, 90), Leg(we, pb, 90), Leg(pb, me, 90), Leg(me, we, 90)]\n",
    "for leg in leglist:\n",
    "    outlst.append((round(leg.distance(), 2), leg.angle))"
   ]
  },
  {
   "cell_type": "code",
   "execution_count": 54,
   "metadata": {
    "collapsed": true
   },
   "outputs": [],
   "source": [
    "#Course('Group7', 'Course7', 'We','Pb', 'Re', 'Gr', 'We', 'Pb', 'Ck')\n",
    "leglist = [Leg(we, pb, 90), Leg(pb, re, 90), Leg(re, gr, 90), Leg(gr, we, 90), Leg(we, pb, 90), Leg(pb, ck, 90), Leg(me, ck, 90)]\n",
    "for leg in leglist:\n",
    "    outlst.append((round(leg.distance(), 2), leg.angle))"
   ]
  },
  {
   "cell_type": "code",
   "execution_count": 55,
   "metadata": {
    "collapsed": true
   },
   "outputs": [],
   "source": [
    "#Course('Group8', 'Course1', 'We', 'Jb', 'Me')\n",
    "leglist = [Leg(we, jb, 35), Leg(jb, me, 35), Leg(me, we, 35)]\n",
    "for leg in leglist:\n",
    "    outlst.append((round(leg.distance(), 2), leg.angle))"
   ]
  },
  {
   "cell_type": "code",
   "execution_count": 56,
   "metadata": {
    "collapsed": true
   },
   "outputs": [],
   "source": [
    "#Course('Group8', 'Course2', 'Pw','Jb', 'Ck')\n",
    "leglist = [Leg(pw, jb, 35), Leg(jb, ck, 35), Leg(ck, pw, 35)]\n",
    "for leg in leglist:\n",
    "    outlst.append((round(leg.distance(), 2), leg.angle))"
   ]
  },
  {
   "cell_type": "code",
   "execution_count": 57,
   "metadata": {
    "collapsed": true
   },
   "outputs": [],
   "source": [
    "#Course('Group8', 'Course3', 'Pw','Pb', 'Wt', 'V')\n",
    "leglist = [Leg(pw, pb, 35), Leg(pb, wt, 35), Leg(wt, v, 35), Leg(v, pw, 35)]\n",
    "for leg in leglist:\n",
    "    outlst.append((round(leg.distance(), 2), leg.angle))"
   ]
  },
  {
   "cell_type": "code",
   "execution_count": 58,
   "metadata": {
    "collapsed": true
   },
   "outputs": [],
   "source": [
    "#Course('Group8', 'Course4', 'Pw','Jb', 'Me', 'Pw', 'Nb', 'Jb', 'Me')\n",
    "leglist = [Leg(pw, jb, 35), Leg(jb, me, 35), Leg(pw, nb, 35), Leg(nb, jb, 35), Leg(jb, me, 35), Leg(me, pw, 35)]\n",
    "for leg in leglist:\n",
    "    outlst.append((round(leg.distance(), 2), leg.angle))"
   ]
  },
  {
   "cell_type": "code",
   "execution_count": 59,
   "metadata": {
    "collapsed": true
   },
   "outputs": [],
   "source": [
    "#Course('Group8', 'Course5', 'Pw','Jb', 'Gr', 'Tu', 'Ck', 'Pw', 'Jb', 'Me')\n",
    "leglist = [Leg(pw, jb, 35), Leg(jb, gr, 35), Leg(gr, tu, 35), Leg(tu, ck, 35), Leg(ck, pw, 35), Leg(pw, jb, 35), Leg(jb, me, 35), Leg(me, pw, 35)]\n",
    "for leg in leglist:\n",
    "    outlst.append((round(leg.distance(), 2), leg.angle))"
   ]
  },
  {
   "cell_type": "code",
   "execution_count": 60,
   "metadata": {
    "collapsed": true
   },
   "outputs": [],
   "source": [
    "#Course('Group8', 'Course6', 'Pw','Jb', 'Gr', 'Tu', 'Ck', 'Pw', 'Jb', 'Re')\n",
    "leglist = [Leg(pw, jb, 35), Leg(jb, gr, 35), Leg(gr, tu, 35), Leg(tu, ck, 35), Leg(ck, pw, 35), Leg(pw, jb, 35), Leg(jb, re, 35), Leg(re, pw, 35)]\n",
    "for leg in leglist:\n",
    "    outlst.append((round(leg.distance(), 2), leg.angle))"
   ]
  },
  {
   "cell_type": "code",
   "execution_count": 61,
   "metadata": {
    "collapsed": true
   },
   "outputs": [],
   "source": [
    "#Course('Group8', 'Course7', 'Pw','Tu', 'Re', 'V', 'Jb', 'Ck')\n",
    "leglist = [Leg(pw, tu, 35), Leg(tu, re, 35), Leg(re, v, 35), Leg(v, jb, 35), Leg(jb, ck, 35), Leg(ck, pw, 35)]\n",
    "for leg in leglist:\n",
    "    outlst.append((round(leg.distance(), 2), leg.angle))"
   ]
  },
  {
   "cell_type": "code",
   "execution_count": null,
   "metadata": {
    "collapsed": true
   },
   "outputs": [],
   "source": []
  },
  {
   "cell_type": "code",
   "execution_count": 62,
   "metadata": {},
   "outputs": [
    {
     "data": {
      "text/plain": [
       "[(0.8, 12.048450793892016),\n",
       " (0.72, 85.2342237415968),\n",
       " (1.11, 49.47634089032806),\n",
       " (1.08, 0),\n",
       " (1.29, 12.99982654318643),\n",
       " (0.4, 63.34189107404899),\n",
       " (1.08, 0),\n",
       " (1.29, 12.99982654318643),\n",
       " (0.4, 63.34189107404899),\n",
       " (1.17, 12.492257225432184),\n",
       " (0.44, 74.02732436733811),\n",
       " (1.2, 31.63535145657778),\n",
       " (1.26, 18.26982602284005),\n",
       " (0.88, 52.11018733626281),\n",
       " (0.9, 21.37159036403449),\n",
       " (0.96, 19.80794704064931),\n",
       " (0.72, 85.2342237415968),\n",
       " (0.7, 18.984005924096266),\n",
       " (0.96, 3.173068677540698),\n",
       " (0.44, 74.02732436733811),\n",
       " (0.9, 21.37159036403449),\n",
       " (0.96, 3.173068677540698),\n",
       " (0.8, 12.048450793884626),\n",
       " (0.22, 33.58290744125054),\n",
       " (1.27, 6.584652246799237),\n",
       " (0.88, 52.11018733626281),\n",
       " (0.7, 18.984005924096266),\n",
       " (0.66, 84.80324552296776),\n",
       " (0.8, 12.048450793892016),\n",
       " (0.72, 85.2342237415968),\n",
       " (1.11, 49.47634089032806),\n",
       " (1.41, 11.375731041074914),\n",
       " (0.85, 81.8554379414773),\n",
       " (0.44, 15.612351176339416),\n",
       " (1.2, 31.63535145657778),\n",
       " (1.17, 12.492257225432184),\n",
       " (0.44, 74.02732436733811),\n",
       " (0.9, 21.37159036403449),\n",
       " (1.11, 94.47634089032806),\n",
       " (0.7, 63.984005924096266),\n",
       " (0.66, 129.80324552296776),\n",
       " (0.95, 72.55398153288616),\n",
       " (0.96, 48.1730686775407),\n",
       " (0.36, 45),\n",
       " (0.71, 92.5378060318049),\n",
       " (1.43, 81.98997712256994),\n",
       " (1.32, 62.10941237012668),\n",
       " (0.55, 122.44932153651166),\n",
       " (0.95, 72.55398153288616),\n",
       " (0.8, 57.048450793884626),\n",
       " (0.66, 129.80324552296776),\n",
       " (1.61, 76.11450223726536),\n",
       " (0.68, 59.46744871907009),\n",
       " (1.11, 94.47634089032806),\n",
       " (1.43, 81.98997712256994),\n",
       " (0.44, 60.612351176339416),\n",
       " (1.11, 94.47634089032806),\n",
       " (1.43, 81.98997712256994),\n",
       " (0.7, 63.984005924112864),\n",
       " (0.71, 92.5378060318049),\n",
       " (1.43, 81.98997712256994),\n",
       " (0.7, 63.984005924112864),\n",
       " (0.44, 60.61235117631708),\n",
       " (0.66, 129.80324552296776),\n",
       " (1.09, 170.49992513458153),\n",
       " (0.9, 147.6439732577614),\n",
       " (0.42, 134.67650223127544),\n",
       " (1.09, 170.49992513458153),\n",
       " (0.98, 102.50295271423215),\n",
       " (1.1, 134.8867870481613),\n",
       " (1.09, 170.49992513458153),\n",
       " (0.98, 102.50295271423215),\n",
       " (0.4, 153.341891074049),\n",
       " (1.09, 170.49992513458153),\n",
       " (0.44, 105.61235117631708),\n",
       " (0.61, 118.16585565448884),\n",
       " (0.8, 166.9543795853566),\n",
       " (0.35, 120.67907304904679),\n",
       " (0.42, 134.67650223127544),\n",
       " (1.09, 170.49992513458153),\n",
       " (0.64, 110.91358632330923),\n",
       " (0.92, 152.92246078941207),\n",
       " (1.09, 170.49992513458153),\n",
       " (0.44, 105.61235117631708),\n",
       " (0.61, 118.16585565448884),\n",
       " (1.4, 146.20534870953963),\n",
       " (1.09, 170.49992513458153),\n",
       " (0.96, 125.43065303070574),\n",
       " (0.76, 127.3895652252674),\n",
       " (1.09, 170.49992513458153),\n",
       " (0.98, 102.50295271423215),\n",
       " (0.4, 153.341891074049),\n",
       " (0.76, 127.3895652252674),\n",
       " (1.09, 170.49992513458153),\n",
       " (0.64, 110.91358632330923),\n",
       " (0.55, 167.44932153651166),\n",
       " (0.42, 134.67650223127544),\n",
       " (1.09, 170.49992513458153),\n",
       " (0.97, 99.44252418259163),\n",
       " (0.42, 180),\n",
       " (1.1, 134.8867870481613),\n",
       " (1.09, 170.49992513458153),\n",
       " (0.44, 105.61235117631708),\n",
       " (0.61, 118.16585565448884),\n",
       " (0.8, 166.9543795853566),\n",
       " (0.76, 127.3895652252674),\n",
       " (0.85, 176.96132658459726),\n",
       " (0.66, 130.19675447703224),\n",
       " (0.8, 157.04845079389202),\n",
       " (0.85, 176.96132658459726),\n",
       " (0.59, 162.3188611947667),\n",
       " (1.08, 145),\n",
       " (0.85, 176.96132658459726),\n",
       " (0.55, 157.08848983937565),\n",
       " (0.4, 151.658108925951),\n",
       " (1.08, 145),\n",
       " (0.85, 176.96132658459726),\n",
       " (0.66, 130.19675447703224),\n",
       " (0.95, 172.55398153288616),\n",
       " (0.8, 157.04845079388463),\n",
       " (0.66, 130.19675447703224),\n",
       " (0.8, 157.04845079389202),\n",
       " (0.85, 176.96132658459726),\n",
       " (0.66, 130.19675447703224),\n",
       " (1.27, 151.58465224679924),\n",
       " (1.26, 163.2698260228401),\n",
       " (0.66, 130.19675447703224),\n",
       " (0.8, 157.04845079389202),\n",
       " (1.41, 171.57456172285123),\n",
       " (0.42, 125),\n",
       " (1.1, 170.11321295183873),\n",
       " (0.67, 170.83298622111434),\n",
       " (1.41, 171.57456172285123),\n",
       " (0.42, 125),\n",
       " (1.29, 157.9998265431865),\n",
       " (1.41, 171.57456172285123),\n",
       " (1.4, 158.79465129046037),\n",
       " (1.1, 170.11321295183873),\n",
       " (0.4, 151.658108925951),\n",
       " (1.08, 145),\n",
       " (0.85, 176.96132658459726),\n",
       " (0.66, 130.19675447703224),\n",
       " (0.8, 157.04845079389202),\n",
       " (0.8, 167.95154920611537),\n",
       " (0.85, 148.0386734154027),\n",
       " (0.31, 101.31489253683199),\n",
       " (0.8, 167.95154920611537),\n",
       " (0.66, 95.19675447703224),\n",
       " (0.95, 152.44601846711384),\n",
       " (1.32, 177.94346449758456),\n",
       " (0.4, 116.65810892595103),\n",
       " (1.17, 167.50774277456784),\n",
       " (0.96, 160.1920529593507),\n",
       " (0.55, 102.55067846348835),\n",
       " (0.42, 135.3234977687246),\n",
       " (0.93, 125.69090512646687),\n",
       " (0.96, 176.8269313224593),\n",
       " (0.55, 102.55067846348835),\n",
       " (0.42, 135.3234977687246),\n",
       " (0.67, 135.83298622111434),\n",
       " (1.29, 167.00017345681354),\n",
       " (0.4, 116.65810892595103),\n",
       " (1.17, 167.50774277456784),\n",
       " (0.96, 176.8269313224593),\n",
       " (0.55, 102.55067846348835),\n",
       " (0.8, 167.95154920610798),\n",
       " (1.29, 167.00017345681354),\n",
       " (1.1, 135.11321295183873),\n",
       " (1.25, 109.69035336076138),\n",
       " (0.44, 164.38764882366058),\n",
       " (1.12, 164.0446137311818),\n",
       " (0.98, 104.1338533997442),\n",
       " (0.67, 135.83298622111434),\n",
       " (0.96, 160.1920529593507),\n",
       " (0.55, 102.55067846348835),\n",
       " (0.42, 135.3234977687246),\n",
       " (1.6, 132.37861127899052),\n",
       " (1.55, 165.24303650596949),\n",
       " (0.55, 102.55067846348835),\n",
       " (0.42, 135.3234977687246),\n",
       " (0.67, 135.83298622111434),\n",
       " (0.8, 122.95154920610797),\n",
       " (0.42, 90.3234977687246),\n",
       " (0.67, 90.83298622111434),\n",
       " (0.59, 82.3188611947667),\n",
       " (1.08, 135),\n",
       " (0.85, 103.03867341540271),\n",
       " (0.66, 50.19675447703224),\n",
       " (0.42, 90.3234977687246),\n",
       " (0.98, 59.1338533997442),\n",
       " (1.11, 85.52365910967197),\n",
       " (0.42, 90.3234977687246),\n",
       " (0.93, 80.69090512646687),\n",
       " (0.44, 60.97267563266186),\n",
       " (1.11, 85.52365910967197),\n",
       " (0.95, 107.44601846711384),\n",
       " (0.44, 60.97267563266186),\n",
       " (1.2, 103.36464854342222),\n",
       " (0.35, 104.3209269509532),\n",
       " (0.42, 90.3234977687246),\n",
       " (1.25, 64.69035336076138),\n",
       " (1.11, 85.52365910967197),\n",
       " (1.61, 103.88549776273466),\n",
       " (0.68, 120.53255128092992),\n",
       " (1.2, 103.36464854342222),\n",
       " (0.76, 97.6104347747326),\n",
       " (1.25, 64.69035336076138),\n",
       " (1.2, 103.36464854342222),\n",
       " (0.35, 104.3209269509532),\n",
       " (1.61, 103.88549776273466),\n",
       " (0.25, 121.06074683658997),\n",
       " (1.43, 98.01002287743003),\n",
       " (0.42, 90.3234977687246),\n",
       " (1.25, 64.69035336076138),\n",
       " (1.09, 9.500074865418497),\n",
       " (0.67, 45.83298622111434),\n",
       " (0.66, 26.824730083426374),\n",
       " (0.66, 5.196754477032243),\n",
       " (0.35, 59.320926950953194),\n",
       " (0.4, 26.658108925951012),\n",
       " (0.55, 77.91151016062435),\n",
       " (1.09, 9.500074865418497),\n",
       " (0.93, 35.69090512646687),\n",
       " (0.47, 50.652710179453464),\n",
       " (1.09, 9.500074865418497),\n",
       " (1.47, 34.87399012030616),\n",
       " (0.7, 71.01599407588715),\n",
       " (1.09, 9.500074865418497),\n",
       " (1.47, 34.87399012030616),\n",
       " (0.7, 71.01599407588715),\n",
       " (1.09, 9.500074865418497),\n",
       " (0.93, 35.69090512646687),\n",
       " (0.47, 50.652710179453464),\n",
       " (1.09, 9.500074865418497),\n",
       " (1.6, 42.37861127899052),\n",
       " (0.68, 75.53255128092992),\n",
       " (0.27, 63.599999680989086),\n",
       " (1.09, 9.500074865418497),\n",
       " (0.93, 35.69090512646687),\n",
       " (0.47, 50.652710179453464),\n",
       " (1.09, 9.500074865418497),\n",
       " (1.6, 42.37861127899052),\n",
       " (0.68, 75.53255128092992),\n",
       " (0.27, 63.599999680989086),\n",
       " (1.09, 9.500074865418497),\n",
       " (1.47, 34.87399012030616),\n",
       " (0.61, 29.330094572242928),\n",
       " (0.66, 28.175269916573626),\n",
       " (0.31, 43.68510746316801),\n",
       " (0.47, 4.347289820546536),\n",
       " (0.85, 3.0386734154027124),\n",
       " (0.9, 31.461612451474423),\n",
       " (1.12, 19.044613731181812),\n",
       " (0.98, 40.8661466002558),\n",
       " (0.76, 2.389565225267404),\n",
       " (0.4, 28.341891074048988),\n",
       " (0.55, 22.911510160624346),\n",
       " (0.85, 3.0386734154027124),\n",
       " (0.31, 43.68510746316801),\n",
       " (0.22, 1.4170925587494878),\n",
       " (0.96, 15.19205295935069),\n",
       " (0.31, 43.68510746316801),\n",
       " (0.8, 22.951549206115374),\n",
       " (0.85, 3.0386734154027124),\n",
       " (0.72, 50.23422374159682),\n",
       " (0.88, 17.110187336262783),\n",
       " (0.85, 46.855437941477305),\n",
       " (1.12, 19.044613731181812),\n",
       " (0.85, 3.0386734154027124),\n",
       " (0.31, 43.68510746316801),\n",
       " (0.8, 22.951549206115374),\n",
       " (0.85, 3.0386734154027124),\n",
       " (0.72, 50.23422374159682),\n",
       " (0.88, 17.110187336262783),\n",
       " (0.85, 46.855437941477305),\n",
       " (1.12, 19.044613731181812),\n",
       " (0.85, 3.0386734154027124),\n",
       " (1.05, 20.091339506391535),\n",
       " (1.36, 20.890378675647355),\n",
       " (1.26, 16.73017397715992),\n",
       " (0.91, 47.391825966633206),\n",
       " (1.89, 25.15356661342804),\n",
       " (1.29, 22.000173456813542),\n",
       " (0.9, 31.461612451474423),\n",
       " (1.12, 19.044613731181812)]"
      ]
     },
     "execution_count": 62,
     "metadata": {},
     "output_type": "execute_result"
    }
   ],
   "source": [
    "outlst"
   ]
  },
  {
   "cell_type": "code",
   "execution_count": 63,
   "metadata": {
    "collapsed": true
   },
   "outputs": [],
   "source": [
    "import matplotlib.pyplot as plt\n",
    "%matplotlib inline"
   ]
  },
  {
   "cell_type": "code",
   "execution_count": 64,
   "metadata": {
    "collapsed": true
   },
   "outputs": [],
   "source": [
    "dists = list()\n",
    "angles = list()\n",
    "for pair in outlst:\n",
    "    dists.append(pair[0])\n",
    "    angles.append(pair[1])"
   ]
  },
  {
   "cell_type": "code",
   "execution_count": 65,
   "metadata": {},
   "outputs": [
    {
     "data": {
      "image/png": "[encoded data removed]",
      "text/plain": [
       "<matplotlib.figure.Figure at 0x7fe7ef582128>"
      ]
     },
     "metadata": {},
     "output_type": "display_data"
    }
   ],
   "source": [
    "plt.scatter(dists, angles)\n",
    "plt.show()"
   ]
  },
  {
   "cell_type": "code",
   "execution_count": 66,
   "metadata": {},
   "outputs": [
    {
     "data": {
      "image/png": "[encoded data removed]",
      "text/plain": [
       "<matplotlib.figure.Figure at 0x7fe7ef5ace80>"
      ]
     },
     "metadata": {},
     "output_type": "display_data"
    }
   ],
   "source": [
    "numBins = 18\n",
    "plt.hist(angles, numBins)\n",
    "plt.show()"
   ]
  },
  {
   "cell_type": "code",
   "execution_count": 67,
   "metadata": {
    "collapsed": true
   },
   "outputs": [],
   "source": [
    "legdist = [0, 0, 0, 0, 0, 0, 0, 0, 0, 0, 0, 0, 0, 0, 0, 0, 0, 0]\n",
    "for leg in outlst:\n",
    "    if leg[1]<=10:\n",
    "        legdist[0]+=leg[0]\n",
    "    elif leg[1]<=20:\n",
    "        legdist[1]+=leg[0]\n",
    "    elif leg[1]<=30:\n",
    "        legdist[2]+=leg[0]\n",
    "    elif leg[1]<=40:\n",
    "        legdist[3]+=leg[0]\n",
    "    elif leg[1]<=50:\n",
    "        legdist[4]+=leg[0]\n",
    "    elif leg[1]<=60:\n",
    "        legdist[5]+=leg[0]\n",
    "    elif leg[1]<=70:\n",
    "        legdist[6]+=leg[0]\n",
    "    elif leg[1]<=80:\n",
    "        legdist[7]+=leg[0]\n",
    "    elif leg[1]<=90:\n",
    "        legdist[8]+=leg[0]\n",
    "    elif leg[1]<=100:\n",
    "        legdist[9]+=leg[0]\n",
    "    elif leg[1]<=110:\n",
    "        legdist[10]+=leg[0]\n",
    "    elif leg[1]<=120:\n",
    "        legdist[11]+=leg[0]\n",
    "    elif leg[1]<=130:\n",
    "        legdist[12]+=leg[0]\n",
    "    elif leg[1]<=140:\n",
    "        legdist[13]+=leg[0]\n",
    "    elif leg[1]<=150:\n",
    "        legdist[14]+=leg[0]\n",
    "    elif leg[1]<=160:\n",
    "        legdist[15]+=leg[0]\n",
    "    elif leg[1]<=170:\n",
    "        legdist[16]+=leg[0]\n",
    "    elif leg[1]<=180:\n",
    "        legdist[17]+=leg[0]\n",
    "    "
   ]
  },
  {
   "cell_type": "code",
   "execution_count": 68,
   "metadata": {},
   "outputs": [
    {
     "data": {
      "text/plain": [
       "[22.370000000000008,\n",
       " 21.250000000000004,\n",
       " 13.170000000000002,\n",
       " 11.620000000000001,\n",
       " 12.24,\n",
       " 8.08,\n",
       " 10.27,\n",
       " 8.14,\n",
       " 14.239999999999998,\n",
       " 11.34,\n",
       " 18.869999999999997,\n",
       " 3.9099999999999997,\n",
       " 9.62,\n",
       " 14.89,\n",
       " 6.39,\n",
       " 11.98,\n",
       " 16.35,\n",
       " 28.800000000000008]"
      ]
     },
     "execution_count": 68,
     "metadata": {},
     "output_type": "execute_result"
    }
   ],
   "source": [
    "legdist"
   ]
  },
  {
   "cell_type": "code",
   "execution_count": 69,
   "metadata": {},
   "outputs": [
    {
     "data": {
      "image/png": "[encoded data removed]",
      "text/plain": [
       "<matplotlib.figure.Figure at 0x7fe7ef5b1400>"
      ]
     },
     "metadata": {},
     "output_type": "display_data"
    }
   ],
   "source": [
    "plt.hist(legdist, numBins)\n",
    "plt.show()"
   ]
  },
  {
   "cell_type": "code",
   "execution_count": 70,
   "metadata": {
    "collapsed": true
   },
   "outputs": [],
   "source": [
    "import pandas as pd"
   ]
  },
  {
   "cell_type": "code",
   "execution_count": 72,
   "metadata": {},
   "outputs": [],
   "source": [
    "df = pd.DataFrame(outlst)"
   ]
  },
  {
   "cell_type": "code",
   "execution_count": 73,
   "metadata": {},
   "outputs": [
    {
     "data": {
      "text/plain": [
       "0     0.854491\n",
       "1    89.809747\n",
       "dtype: float64"
      ]
     },
     "execution_count": 73,
     "metadata": {},
     "output_type": "execute_result"
    }
   ],
   "source": [
    "df.mean()"
   ]
  },
  {
   "cell_type": "code",
   "execution_count": 74,
   "metadata": {},
   "outputs": [
    {
     "data": {
      "text/plain": [
       "18"
      ]
     },
     "execution_count": 74,
     "metadata": {},
     "output_type": "execute_result"
    }
   ],
   "source": [
    "len(legdist)"
   ]
  },
  {
   "cell_type": "code",
   "execution_count": 75,
   "metadata": {},
   "outputs": [
    {
     "data": {
      "text/plain": [
       "121.38"
      ]
     },
     "execution_count": 75,
     "metadata": {},
     "output_type": "execute_result"
    }
   ],
   "source": [
    "sum(legdist[:9])"
   ]
  },
  {
   "cell_type": "code",
   "execution_count": 76,
   "metadata": {},
   "outputs": [
    {
     "data": {
      "text/plain": [
       "122.15"
      ]
     },
     "execution_count": 76,
     "metadata": {},
     "output_type": "execute_result"
    }
   ],
   "source": [
    "sum(legdist[9:])"
   ]
  },
  {
   "cell_type": "code",
   "execution_count": null,
   "metadata": {
    "collapsed": true
   },
   "outputs": [],
   "source": []
  }
 ],
 "metadata": {
  "kernelspec": {
   "display_name": "Python 3",
   "language": "python",
   "name": "python3"
  },
  "language_info": {
   "codemirror_mode": {
    "name": "ipython",
    "version": 3
   },
   "file_extension": ".py",
   "mimetype": "text/x-python",
   "name": "python",
   "nbconvert_exporter": "python",
   "pygments_lexer": "ipython3",
   "version": "3.6.3"
  }
 },
 "nbformat": 4,
 "nbformat_minor": 2
}
