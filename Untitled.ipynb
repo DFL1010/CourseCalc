{
 "cells": [
  {
   "cell_type": "code",
   "execution_count": 274,
   "metadata": {
    "collapsed": true
   },
   "outputs": [],
   "source": [
    "from Course import Course\n",
    "from Mark import Mark\n",
    "from Leg import Leg\n",
    "import csv"
   ]
  },
  {
   "cell_type": "code",
   "execution_count": 275,
   "metadata": {
    "collapsed": true
   },
   "outputs": [],
   "source": [
    "outlst = list()"
   ]
  },
  {
   "cell_type": "code",
   "execution_count": 276,
   "metadata": {
    "collapsed": true
   },
   "outputs": [],
   "source": [
    "a = Mark('A','Northern',50.135,-5.042)\n",
    "b = Mark('B','Bay',50.108,-5.0)\n",
    "c = Mark('C','Central',50.12,-5.033)\n",
    "cn = Mark('Cn','SKB Sails',50.145,-5.02)\n",
    "gy = Mark('Gy',\"Choak’s Pasties\",50.138,-5.06)\n",
    "h = Mark('H','Helston',50.093,-5.013)\n",
    "hd = Mark('Hd','Hine-Downing',50.138,-5.042)\n",
    "m = Mark('M','The Cove Restaurant',50.125,-5.08)\n",
    "n = Mark('N','Nare',50.089,-5.082)\n",
    "ow = Mark('Ow','Old Wall',50.123,-5.009)\n",
    "p = Mark('P','Pendennis Shipyard',50.146,-5.035)\n",
    "pb = Mark('Pb',\"Pasco’s Boatyard\",50.179,-5.024)\n",
    "ph = Mark('Ph','Porthallow',50.085,-5.055)\n",
    "pw = Mark('Pw','Mylor Yacht Harbour',50.175,-5.04)\n",
    "r = Mark('R','Meudon Hotel',50.11,-5.07)\n",
    "s = Mark('S','Sunbeam',50.166,-5.045)\n",
    "sn = Mark('Sn','Sailtech',50.155,-5.03)\n",
    "t = Mark('T','Falmouth Boat Construction',50.161,-5.05)\n",
    "w = Mark('W','Rustler Yachts',50.16,-5.032)\n",
    "wt = Mark('Wt','Ancasta',50.169,-5.032)\n",
    "z = Mark('Z','Penrose Sails',50.136,-5.018)\n",
    "br = Mark('Br','Black Rock',50.145,-5.029)\n",
    "ca = Mark('Ca','Castle',50.15,-5.027)\n",
    "sm = Mark('Sm','St Mawes',50.152,-5.024)\n",
    "g = Mark('G','The Governor',50.153,-5.04)\n",
    "wn = Mark('Wn','West Narrows',50.157,-5.035)\n",
    "en = Mark('En','East Narrows',50.157,-5.032)\n",
    "v = Mark('V','The Vilt',50.166,-5.038)\n",
    "nb = Mark('Nb','Northbank',50.172,-5.038)\n",
    "j = Mark('J','St Just',50.174,-5.029)\n",
    "me = Mark('Me','Messack',50.188,-5.037)\n",
    "ck = Mark('Ck','Carrick',50.193,-5.046)\n",
    "pill = Mark('Pill','Pill',50.201,-5.04)\n",
    "re = Mark('Re','Restronguet',50.197,-5.047)\n",
    "tu = Mark('Tu','Turnaware',50.195,-5.032)\n",
    "gr = Mark('Gr','Greatwood',50.186,-5.044)\n",
    "jb = Mark('Jb','JB',50.187,-5.032)\n",
    "we = Mark('We','Windward',50.182,-5.042)\n"
   ]
  },
  {
   "cell_type": "code",
   "execution_count": null,
   "metadata": {
    "collapsed": true
   },
   "outputs": [],
   "source": []
  },
  {
   "cell_type": "code",
   "execution_count": 277,
   "metadata": {},
   "outputs": [
    {
     "data": {
      "text/plain": [
       "\"Course('Group1', 'Course1', 'J','Jb', 'Gr')\\nCourse('Group1', 'Course2','Wt', 'Jp', 'V')\\nCourse('Group1', 'Course3', 'Wt', 'Me', 'Gr')\\nCourse('Group1', 'Course4', 'Nb', 'Me', 'Gr', 'Nb', 'Me', 'Pw')\\nCourse('Group1', 'Course5', 'Pw','Tu', 'Gr', 'Nb', 'Jb', 'Gr')\\nCourse('Group1', 'Course6', 'J','Tu', 'Gr', 'Pw', 'J', 'Jb', 'Gr')\\nCourse('Group1', 'Course7', 'Nb','Tu', 'Ck', 'Gr', 'Wt', 'Me', 'Gr')\\nCourse('Group2', 'Course1', 'J','Gr', 'Pw')\\nCourse('Group2', 'Course2', 'J','Wx', 'Gr', 'Pw')\\nCourse('Group2', 'Course3', 'J','Me', 'Nb', 'V')\\nCourse('Group2', 'Course4', 'J','Ck', 'Nb', 'J', 'Me', 'Pw')\\nCourse('Group2', 'Course5', 'Nb','Wx', 'Gr', 'Pw', 'S', 'J', 'Wx', 'Gr')\\nCourse('Group2', 'Course6', 'J','Re', 'Gr', 'J', 'Ck', 'Gr')\\nCourse('Group2', 'Course7', 'J','Ck', 'We', 'V', 'J', 'Ck', 'We', 'Pw')\\nCourse('Group3', 'Course1', 'Pb','We', 'J')\\nCourse('Group3', 'Course2', 'Pb','We', 'V')\\nCourse('Group3', 'Course3', 'Pb','We', 'V', 'Wt',)\\nCourse('Group3', 'Course4', 'Pb','We', 'Pw', 'S', 'Wt', 'J', 'Pb', 'We', 'Nb')\\nCourse('Grouo3', 'Course5', 'Pb','We', 'Pw', 'S', 'Pb', 'We', 'Wt')\\nCourse('Group3', 'Course6', 'Pb','We', 'V', 'Wt', 'Pb', 'We', 'Nb', 'J')\\nCourse('Group3','Course7','Pb','We','Nb','S','V','Pb','We','Pw','S','Wt')\\nCourse('Group4', 'Course1', 'Jb','Pw', 'J')\\nCourse('Group4', 'Course2', 'Jb','Pw', 'Wt')\\nCourse('Group4', 'Course3', 'Jb','Pw', 'V', 'Wt')\\nCourse('Group4', 'Course4', 'Jb','Pw', 'J', 'Me', 'Pw', 'J')\\nCourse('Group4', 'Course5', 'Jb','Pw', 'J', 'Tu', 'Pw', 'J')\\nCourse('Group4', 'Course6', 'Jb','S', 'V', 'Pb', 'Jb', 'S', 'V')\\nCourse('Group4', 'Course7', 'Jb','S', 'Pb', 'V', 'Wt', 'Jb', 'Pw', 'J')\\nCourse('Group5', 'Course1', 'Me','Pw', 'Jb')\\nCourse('Group5', 'Course2', 'Me','Pw', 'J')\\nCourse('Group5', 'Course3', 'Me', 'V', 'Wt')\\nCourse('Group5', 'Course4', 'Jb','Nb', 'J', 'Pb', 'Me', 'Nb', 'J', 'Pb')\\nCourse('Group5', 'Course5', 'Jb', 'V', 'Wt', 'Me', 'Nb', 'J')\\nCourse('Group5', 'Course6', 'Jb', 'V', 'Pb', 'Gr', 'Ck', 'Pw', 'Pb')\\nCourse('Group5', 'Course7', 'Jb', 'Nb', 'J', 'Pb', 'Re', 'Nb', 'J', 'Pb')\\nCourse('Group6', 'Course1', 'Jb','J', 'Pb')\\nCourse('Group6', 'Course2', 'Pw','Wt', 'Jb')\\nCourse('Group6', 'Course3', 'Pw','J', 'Pb')\\nCourse('Group6', 'Course4', 'Gr','J', 'Pb', 'Me', 'Gr', 'J', 'Me')\\nCourse('Group6', 'Course5', 'Gr','Wt', 'J', 'Ck', 'J', 'Pb')\\nCourse('Group6', 'Course6', 'Gr','J', 'Re', 'Gr', 'Wt', 'Pb')\\nCourse('Group6', 'Course7', 'Gr','Wt', 'J', 'Re', 'Ck', 'J', 'Pb')\\nCourse('Group7', 'Course1', 'We','Pb', 'Jb')\\nCourse('Group7', 'Course2', 'Pw','J', 'Wt', 'V')\\nCourse('Group7', 'Course3', 'We','Pb', 'Me')\\nCourse('Group7', 'Course4', 'We','Pb', 'Ck')\\nCourse('Group7', 'Course5', 'We','Pb', 'Ck', 'We', 'Pb', 'Me')\\nCourse('Group7', 'Course6', 'We','Pb', 'Re', 'Gr', 'We', 'Pb', 'Me')\\nCourse('Group7', 'Course7', 'We','Pb', 'Re', 'Gr', 'We', 'Pb', 'Ck')\\nCourse('Group8', 'Course1', 'We', 'Jb', 'Me')\\nCourse('Group8', 'Course2', 'Pw','Jb', 'Ck')\\nCourse('Group8', 'Course3', 'Pw','Pb', 'Wt', 'V')\\nCourse('Group8', 'Course4', 'Pw','Jb', 'Me', 'Pw', 'Nb', 'Jb', 'Me')\\nCourse('Group8', 'Course5', 'Pw','Jb', 'Gr', 'Tu', 'Ck', 'Pw', 'Jb', 'Me')\\nCourse('Group8', 'Course6', 'Pw','Jb', 'Gr', 'Tu', 'Ck', 'Pw', 'Jb', 'Re')\\nCourse('Group8', 'Course7', 'Pw','Tu', 'Re', 'V', 'Jb', 'Ck')\\n\""
      ]
     },
     "execution_count": 277,
     "metadata": {},
     "output_type": "execute_result"
    }
   ],
   "source": [
    "'''Course('Group1', 'Course1', 'J','Jb', 'Gr')\n",
    "Course('Group1', 'Course2','Wt', 'Jp', 'V')\n",
    "Course('Group1', 'Course3', 'Wt', 'Me', 'Gr')\n",
    "Course('Group1', 'Course4', 'Nb', 'Me', 'Gr', 'Nb', 'Me', 'Pw')\n",
    "Course('Group1', 'Course5', 'Pw','Tu', 'Gr', 'Nb', 'Jb', 'Gr')\n",
    "Course('Group1', 'Course6', 'J','Tu', 'Gr', 'Pw', 'J', 'Jb', 'Gr')\n",
    "Course('Group1', 'Course7', 'Nb','Tu', 'Ck', 'Gr', 'Wt', 'Me', 'Gr')\n",
    "Course('Group2', 'Course1', 'J','Gr', 'Pw')\n",
    "Course('Group2', 'Course2', 'J','Wx', 'Gr', 'Pw')\n",
    "Course('Group2', 'Course3', 'J','Me', 'Nb', 'V')\n",
    "Course('Group2', 'Course4', 'J','Ck', 'Nb', 'J', 'Me', 'Pw')\n",
    "Course('Group2', 'Course5', 'Nb','Wx', 'Gr', 'Pw', 'S', 'J', 'Wx', 'Gr')\n",
    "Course('Group2', 'Course6', 'J','Re', 'Gr', 'J', 'Ck', 'Gr')\n",
    "Course('Group2', 'Course7', 'J','Ck', 'We', 'V', 'J', 'Ck', 'We', 'Pw')\n",
    "Course('Group3', 'Course1', 'Pb','We', 'J')\n",
    "Course('Group3', 'Course2', 'Pb','We', 'V')\n",
    "Course('Group3', 'Course3', 'Pb','We', 'V', 'Wt',)\n",
    "Course('Group3', 'Course4', 'Pb','We', 'Pw', 'S', 'Wt', 'J', 'Pb', 'We', 'Nb')\n",
    "Course('Grouo3', 'Course5', 'Pb','We', 'Pw', 'S', 'Pb', 'We', 'Wt')\n",
    "Course('Group3', 'Course6', 'Pb','We', 'V', 'Wt', 'Pb', 'We', 'Nb', 'J')\n",
    "Course('Group3','Course7','Pb','We','Nb','S','V','Pb','We','Pw','S','Wt')\n",
    "Course('Group4', 'Course1', 'Jb','Pw', 'J')\n",
    "Course('Group4', 'Course2', 'Jb','Pw', 'Wt')\n",
    "Course('Group4', 'Course3', 'Jb','Pw', 'V', 'Wt')\n",
    "Course('Group4', 'Course4', 'Jb','Pw', 'J', 'Me', 'Pw', 'J')\n",
    "Course('Group4', 'Course5', 'Jb','Pw', 'J', 'Tu', 'Pw', 'J')\n",
    "Course('Group4', 'Course6', 'Jb','S', 'V', 'Pb', 'Jb', 'S', 'V')\n",
    "Course('Group4', 'Course7', 'Jb','S', 'Pb', 'V', 'Wt', 'Jb', 'Pw', 'J')\n",
    "Course('Group5', 'Course1', 'Me','Pw', 'Jb')\n",
    "Course('Group5', 'Course2', 'Me','Pw', 'J')\n",
    "Course('Group5', 'Course3', 'Me', 'V', 'Wt')\n",
    "Course('Group5', 'Course4', 'Jb','Nb', 'J', 'Pb', 'Me', 'Nb', 'J', 'Pb')\n",
    "Course('Group5', 'Course5', 'Jb', 'V', 'Wt', 'Me', 'Nb', 'J')\n",
    "Course('Group5', 'Course6', 'Jb', 'V', 'Pb', 'Gr', 'Ck', 'Pw', 'Pb')\n",
    "Course('Group5', 'Course7', 'Jb', 'Nb', 'J', 'Pb', 'Re', 'Nb', 'J', 'Pb')\n",
    "Course('Group6', 'Course1', 'Jb','J', 'Pb')\n",
    "Course('Group6', 'Course2', 'Pw','Wt', 'Jb')\n",
    "Course('Group6', 'Course3', 'Pw','J', 'Pb')\n",
    "Course('Group6', 'Course4', 'Gr','J', 'Pb', 'Me', 'Gr', 'J', 'Me')\n",
    "Course('Group6', 'Course5', 'Gr','Wt', 'J', 'Ck', 'J', 'Pb')\n",
    "Course('Group6', 'Course6', 'Gr','J', 'Re', 'Gr', 'Wt', 'Pb')\n",
    "Course('Group6', 'Course7', 'Gr','Wt', 'J', 'Re', 'Ck', 'J', 'Pb')\n",
    "Course('Group7', 'Course1', 'We','Pb', 'Jb')\n",
    "Course('Group7', 'Course2', 'Pw','J', 'Wt', 'V')\n",
    "Course('Group7', 'Course3', 'We','Pb', 'Me')\n",
    "Course('Group7', 'Course4', 'We','Pb', 'Ck')\n",
    "Course('Group7', 'Course5', 'We','Pb', 'Ck', 'We', 'Pb', 'Me')\n",
    "Course('Group7', 'Course6', 'We','Pb', 'Re', 'Gr', 'We', 'Pb', 'Me')\n",
    "Course('Group7', 'Course7', 'We','Pb', 'Re', 'Gr', 'We', 'Pb', 'Ck')\n",
    "Course('Group8', 'Course1', 'We', 'Jb', 'Me')\n",
    "Course('Group8', 'Course2', 'Pw','Jb', 'Ck')\n",
    "Course('Group8', 'Course3', 'Pw','Pb', 'Wt', 'V')\n",
    "Course('Group8', 'Course4', 'Pw','Jb', 'Me', 'Pw', 'Nb', 'Jb', 'Me')\n",
    "Course('Group8', 'Course5', 'Pw','Jb', 'Gr', 'Tu', 'Ck', 'Pw', 'Jb', 'Me')\n",
    "Course('Group8', 'Course6', 'Pw','Jb', 'Gr', 'Tu', 'Ck', 'Pw', 'Jb', 'Re')\n",
    "Course('Group8', 'Course7', 'Pw','Tu', 'Re', 'V', 'Jb', 'Ck')\n",
    "'''"
   ]
  },
  {
   "cell_type": "code",
   "execution_count": null,
   "metadata": {
    "collapsed": true
   },
   "outputs": [],
   "source": []
  },
  {
   "cell_type": "code",
   "execution_count": null,
   "metadata": {
    "collapsed": true
   },
   "outputs": [],
   "source": []
  },
  {
   "cell_type": "code",
   "execution_count": 278,
   "metadata": {},
   "outputs": [],
   "source": [
    "#Course('Group1', 'Course1', 'J','Jb', 'Gr')\n",
    "leglist = [Leg(j, jb, 360), Leg(jb, gr, 360), Leg(gr, j, 360)]\n",
    "for leg in leglist:\n",
    "    outlst.append((round(leg.distance(), 2), leg.angle))"
   ]
  },
  {
   "cell_type": "code",
   "execution_count": 279,
   "metadata": {},
   "outputs": [],
   "source": [
    "#'Wt', 'Jp', 'V'\n",
    "leglist = [Leg(wt, jb, 360), Leg(jb, v, 360), Leg(v, wt, 360)]\n",
    "for leg in leglist:\n",
    "    outlst.append((round(leg.distance(), 2), leg.angle))"
   ]
  },
  {
   "cell_type": "code",
   "execution_count": 280,
   "metadata": {
    "collapsed": true
   },
   "outputs": [],
   "source": [
    "#'Wt', 'Jp', 'V'\n",
    "leglist = [Leg(wt, jb, 360), Leg(jb, v, 360), Leg(v, wt, 360)]\n",
    "for leg in leglist:\n",
    "    outlst.append((round(leg.distance(), 2), leg.angle))"
   ]
  },
  {
   "cell_type": "code",
   "execution_count": 281,
   "metadata": {
    "collapsed": true
   },
   "outputs": [],
   "source": [
    "#Course('Group1', 'Course3', 'Wt', 'Me', 'Gr')\n",
    "leglist = [Leg(wt, me, 360), Leg(me, gr, 360), Leg(gr, wt, 360)]\n",
    "for leg in leglist:\n",
    "    outlst.append((round(leg.distance(), 2), leg.angle))"
   ]
  },
  {
   "cell_type": "code",
   "execution_count": 282,
   "metadata": {},
   "outputs": [],
   "source": [
    "#Course('Group1', 'Course5', 'Pw','Tu', 'Gr', 'Nb', 'Jb', 'Gr')\n",
    "leglist = [Leg(pw, tu, 360), Leg(tu, gr, 360), Leg(gr, nb, 360), Leg(nb, jb, 360), Leg(jb, gr, 360), Leg(gr, pw, 360)]\n",
    "for leg in leglist:\n",
    "    outlst.append((round(leg.distance(), 2), leg.angle))"
   ]
  },
  {
   "cell_type": "code",
   "execution_count": 283,
   "metadata": {
    "collapsed": true
   },
   "outputs": [],
   "source": [
    "#Course('Group1', 'Course4', 'Nb', 'Me', 'Gr', 'Nb', 'Me', 'Pw')\n",
    "leglist = [Leg(nb, me, 360), Leg(me, gr, 360), Leg(gr, nb, 360), Leg(nb, me, 360), Leg(me, pw, 360), Leg(pw, nb, 360)]\n",
    "for leg in leglist:\n",
    "    outlst.append((round(leg.distance(), 2), leg.angle))"
   ]
  },
  {
   "cell_type": "code",
   "execution_count": 284,
   "metadata": {},
   "outputs": [],
   "source": [
    "#Course('Group1', 'Course6', 'J','Tu', 'Gr', 'Pw', 'J', 'Jb', 'Gr')\n",
    "leglist = [Leg(j, tu, 360), Leg(tu, gr, 360), Leg(gr, pw, 360), Leg(pw, j, 360), Leg(j, jb, 360), Leg(jb, gr, 360), Leg(gr, j, 360)]\n",
    "for leg in leglist:\n",
    "    outlst.append((round(leg.distance(), 2), leg.angle))"
   ]
  },
  {
   "cell_type": "code",
   "execution_count": 285,
   "metadata": {
    "collapsed": true
   },
   "outputs": [],
   "source": [
    "#Course('Group1', 'Course7', 'Nb','Tu', 'Ck', 'Gr', 'Wt', 'Me', 'Gr')\n",
    "leglist = [Leg(nb, tu, 360), Leg(tu, ck, 360), Leg(ck, gr, 360), Leg(gr, wt, 360), Leg(wt, me, 360), Leg(me, gr, 360), Leg(gr, nb, 360)]\n",
    "for leg in leglist:\n",
    "    outlst.append((round(leg.distance(), 2), leg.angle))"
   ]
  },
  {
   "cell_type": "code",
   "execution_count": 286,
   "metadata": {
    "collapsed": true
   },
   "outputs": [],
   "source": [
    "#Course('Group2', 'Course1', 'J','Gr', 'Pw')\n",
    "leglist = [Leg(j, gr, 315), Leg(gr, pw, 315), Leg(pw, j, 315)]\n",
    "for leg in leglist:\n",
    "    outlst.append((round(leg.distance(), 2), leg.angle))"
   ]
  },
  {
   "cell_type": "code",
   "execution_count": 287,
   "metadata": {},
   "outputs": [],
   "source": [
    "#Course('Group2', 'Course3', 'J','Me', 'Nb', 'V')\n",
    "leglist = [Leg(j, me, 315), Leg(me, nb, 315), Leg(nb, v, 315), Leg(v, j, 315)]\n",
    "for leg in leglist:\n",
    "    outlst.append((round(leg.distance(), 2), leg.angle))"
   ]
  },
  {
   "cell_type": "code",
   "execution_count": 288,
   "metadata": {
    "collapsed": true
   },
   "outputs": [],
   "source": [
    "#Course('Group2', 'Course4', 'J','Ck', 'Nb', 'J', 'Me', 'Pw')\n",
    "leglist = [Leg(j, ck, 315), Leg(ck, nb, 315), Leg(nb, j, 315), Leg(j, me, 315), Leg(me, pw, 315), Leg(pw, j, 315)]\n",
    "for leg in leglist:\n",
    "    outlst.append((round(leg.distance(), 2), leg.angle))"
   ]
  },
  {
   "cell_type": "code",
   "execution_count": 289,
   "metadata": {},
   "outputs": [],
   "source": [
    "#Course('Group2', 'Course6', 'J','Re', 'Gr', 'J', 'Ck', 'Gr')\n",
    "leglist = [Leg(j, re, 315), Leg(re, gr, 315), Leg(gr, j, 315), Leg(j, ck, 315), Leg(ck,gr, 315), Leg(gr, j, 315)]\n",
    "for leg in leglist:\n",
    "    outlst.append((round(leg.distance(), 2), leg.angle))"
   ]
  },
  {
   "cell_type": "code",
   "execution_count": 290,
   "metadata": {
    "collapsed": true
   },
   "outputs": [],
   "source": [
    "#Course('Group2', 'Course7', 'J','Ck', 'We', 'V', 'J', 'Ck', 'We', 'Pw')\n",
    "leglist = [Leg(j, ck, 315), Leg(ck, we, 315), Leg(v, j, 315), Leg(j, ck, 315), Leg(ck,we, 315), Leg(we, pw, 315), Leg(pw, j, 315)]\n",
    "for leg in leglist:\n",
    "    outlst.append((round(leg.distance(), 2), leg.angle))"
   ]
  },
  {
   "cell_type": "code",
   "execution_count": 291,
   "metadata": {
    "collapsed": true
   },
   "outputs": [],
   "source": [
    "#Course('Group3', 'Course1', 'Pb','We', 'J')\n",
    "leglist = [Leg(pb, we, 270), Leg(we, j, 270), Leg(j, pb, 270)]\n",
    "for leg in leglist:\n",
    "    outlst.append((round(leg.distance(), 2), leg.angle))"
   ]
  },
  {
   "cell_type": "code",
   "execution_count": 292,
   "metadata": {
    "collapsed": true
   },
   "outputs": [],
   "source": [
    "#Course('Group3', 'Course2', 'Pb','We', 'V')\n",
    "leglist = [Leg(pb, we, 270), Leg(we, v, 270), Leg(v, pb, 270)]\n",
    "for leg in leglist:\n",
    "    outlst.append((round(leg.distance(), 2), leg.angle))"
   ]
  },
  {
   "cell_type": "code",
   "execution_count": 293,
   "metadata": {
    "collapsed": true
   },
   "outputs": [],
   "source": [
    "#Course('Group3', 'Course3', 'Pb','We', 'V', 'Wt',)\n",
    "leglist = [Leg(pb, we, 270), Leg(we, v, 270), Leg(v, wt, 270)]\n",
    "for leg in leglist:\n",
    "    outlst.append((round(leg.distance(), 2), leg.angle))"
   ]
  },
  {
   "cell_type": "code",
   "execution_count": 294,
   "metadata": {},
   "outputs": [],
   "source": [
    "#Course('Group3', 'Course4', 'Pb','We', 'Pw', 'S', 'Wt', 'J', 'Pb', 'We', 'Nb')\n",
    "leglist = [Leg(pb, we, 270), Leg(we, pw, 270), Leg(pw, s, 270), Leg(s, wt, 270), Leg(wt, j, 270), Leg(j, pb, 270), Leg(pb, we, 270), Leg(we, nb, 270), Leg(nb, pb, 270)]\n",
    "for leg in leglist:\n",
    "    outlst.append((round(leg.distance(), 2), leg.angle))"
   ]
  },
  {
   "cell_type": "code",
   "execution_count": 295,
   "metadata": {
    "collapsed": true
   },
   "outputs": [],
   "source": [
    "#Course('Grouo3', 'Course5', 'Pb','We', 'Pw', 'S', 'Pb', 'We', 'Wt')\n",
    "leglist = [Leg(pb, we, 270), Leg(we, pw, 270), Leg(pw, s, 270), Leg(s, pb, 270), Leg(pb, we, 270), Leg(we, wt, 270), Leg(wt, pb, 270)]\n",
    "for leg in leglist:\n",
    "    outlst.append((round(leg.distance(), 2), leg.angle))"
   ]
  },
  {
   "cell_type": "code",
   "execution_count": 296,
   "metadata": {
    "collapsed": true
   },
   "outputs": [],
   "source": [
    "#Course('Group3', 'Course6', 'Pb','We', 'V', 'Wt', 'Pb', 'We', 'Nb', 'J')\n",
    "leglist = [Leg(pb, we, 270), Leg(we, v, 270), Leg(v, wt, 270), Leg(wt, pb, 270), Leg(pb, we, 270), Leg(we, nb, 270), Leg(nb, j, 270), Leg(j, pb, 270)]\n",
    "for leg in leglist:\n",
    "    outlst.append((round(leg.distance(), 2), leg.angle))"
   ]
  },
  {
   "cell_type": "code",
   "execution_count": 297,
   "metadata": {
    "collapsed": true
   },
   "outputs": [],
   "source": [
    "#Course('Group3','Course7','Pb','We','Nb','S','V','Pb','We','Pw','S','Wt')\n",
    "leglist = [Leg(pb, we, 270), Leg(we, s, 270), Leg(s, v, 270), Leg(v, pb, 270), Leg(pb, we, 270), Leg(we, pw, 270), Leg(pw, s, 270), Leg(s, wt, 270), Leg(wt, pb, 270)]\n",
    "for leg in leglist:\n",
    "    outlst.append((round(leg.distance(), 2), leg.angle))"
   ]
  },
  {
   "cell_type": "code",
   "execution_count": 298,
   "metadata": {
    "collapsed": true
   },
   "outputs": [],
   "source": [
    "#Course('Group4', 'Course1', 'Jb','Pw', 'J')\n",
    "leglist = [Leg(jb, pw, 215), Leg(pw, j, 215), Leg(j, jb, 215)]\n",
    "for leg in leglist:\n",
    "    outlst.append((round(leg.distance(), 2), leg.angle))"
   ]
  },
  {
   "cell_type": "code",
   "execution_count": 299,
   "metadata": {
    "collapsed": true
   },
   "outputs": [],
   "source": [
    "#Course('Group4', 'Course2', 'Jb','Pw', 'Wt')\n",
    "leglist = [Leg(jb, pw, 215), Leg(pw, wt, 215), Leg(wt, jb, 215)]\n",
    "for leg in leglist:\n",
    "    outlst.append((round(leg.distance(), 2), leg.angle))"
   ]
  },
  {
   "cell_type": "code",
   "execution_count": 300,
   "metadata": {
    "collapsed": true
   },
   "outputs": [],
   "source": [
    "#Course('Group4', 'Course3', 'Jb','Pw', 'V', 'Wt')\n",
    "leglist = [Leg(jb, pw, 215), Leg(pw, v, 215), Leg(v, wt, 215), Leg(wt, jb, 215)]\n",
    "for leg in leglist:\n",
    "    outlst.append((round(leg.distance(), 2), leg.angle))"
   ]
  },
  {
   "cell_type": "code",
   "execution_count": 301,
   "metadata": {},
   "outputs": [],
   "source": [
    "#Course('Group4', 'Course4', 'Jb','Pw', 'J', 'Me', 'Pw', 'J')\n",
    "leglist = [Leg(jb, pw, 215), Leg(pw, j, 215), Leg(j, me, 215), Leg(me, pw, 215), Leg(pw, j, 215), Leg(j, jb, 215)]\n",
    "for leg in leglist:\n",
    "    outlst.append((round(leg.distance(), 2), leg.angle))"
   ]
  },
  {
   "cell_type": "code",
   "execution_count": 302,
   "metadata": {
    "collapsed": true
   },
   "outputs": [],
   "source": [
    "#Course('Group4', 'Course5', 'Jb','Pw', 'J', 'Tu', 'Pw', 'J')\n",
    "leglist = [Leg(jb, pw, 215), Leg(pw, j, 215), Leg(j, tu, 215), Leg(tu, pw, 215), Leg(pw, j, 215), Leg(j, jb, 215)]\n",
    "for leg in leglist:\n",
    "    outlst.append((round(leg.distance(), 2), leg.angle))"
   ]
  },
  {
   "cell_type": "code",
   "execution_count": 303,
   "metadata": {
    "collapsed": true
   },
   "outputs": [],
   "source": [
    "#Course('Group4', 'Course6', 'Jb','S', 'V', 'Pb', 'Jb', 'S', 'V')\n",
    "leglist = [Leg(jb, s, 215), Leg(s, v, 215), Leg(v, pb, 215), Leg(pb, jb, 215), Leg(jb, s, 215), Leg(s, v, 215), Leg(v, jb, 215)]\n",
    "for leg in leglist:\n",
    "    outlst.append((round(leg.distance(), 2), leg.angle))"
   ]
  },
  {
   "cell_type": "code",
   "execution_count": 304,
   "metadata": {
    "collapsed": true
   },
   "outputs": [],
   "source": [
    "#Course('Group4', 'Course7', 'Jb','S', 'Pb', 'V', 'Wt', 'Jb', 'Pw', 'J')\n",
    "leglist = [Leg(jb, s, 215), Leg(s, pb, 215), Leg(pb, v, 215), Leg(v, wt, 215), Leg(wt, jb, 215), Leg(jb, pw, 215), Leg(pw, j, 215), Leg(j, jb, 215)]\n",
    "for leg in leglist:\n",
    "    outlst.append((round(leg.distance(), 2), leg.angle))"
   ]
  },
  {
   "cell_type": "code",
   "execution_count": 305,
   "metadata": {
    "collapsed": true
   },
   "outputs": [],
   "source": [
    "#Course('Group5', 'Course1', 'Me','Pw', 'Jb')\n",
    "leglist = [Leg(me, pw, 180), Leg(pw, jb, 180), Leg(jb, me, 180)]\n",
    "for leg in leglist:\n",
    "    outlst.append((round(leg.distance(), 2), leg.angle))"
   ]
  },
  {
   "cell_type": "code",
   "execution_count": 306,
   "metadata": {
    "collapsed": true
   },
   "outputs": [],
   "source": [
    "#Course('Group5', 'Course2', 'Me','Pw', 'J')\n",
    "leglist = [Leg(me, pw, 180), Leg(pw, j, 180), Leg(j, me, 180)]\n",
    "for leg in leglist:\n",
    "    outlst.append((round(leg.distance(), 2), leg.angle))"
   ]
  },
  {
   "cell_type": "code",
   "execution_count": 307,
   "metadata": {
    "collapsed": true
   },
   "outputs": [],
   "source": [
    "#Course('Group5', 'Course3', 'Me', 'V', 'Wt')\n",
    "leglist = [Leg(me, v, 180), Leg(v, wt, 180), Leg(wt, me, 180)]\n",
    "for leg in leglist:\n",
    "    outlst.append((round(leg.distance(), 2), leg.angle))"
   ]
  },
  {
   "cell_type": "code",
   "execution_count": 308,
   "metadata": {
    "collapsed": true
   },
   "outputs": [],
   "source": [
    "#Course('Group5', 'Course4', 'Jb','Nb', 'J', 'Pb', 'Me', 'Nb', 'J', 'Pb')\n",
    "leglist = [Leg(jb, nb, 180), Leg(nb, j, 180), Leg(j, pb, 180), Leg(pb, me, 180), Leg(me, nb, 180), Leg(nb, j, 180), Leg(j, pb, 180), Leg(pb, jb, 180)]\n",
    "for leg in leglist:\n",
    "    outlst.append((round(leg.distance(), 2), leg.angle))"
   ]
  },
  {
   "cell_type": "code",
   "execution_count": 309,
   "metadata": {},
   "outputs": [],
   "source": [
    "#Course('Group5', 'Course5', 'Jb', 'V', 'Wt', 'Me', 'Nb', 'J')\n",
    "leglist = [Leg(jb, v, 180), Leg(v, wt, 180), Leg(wt, me, 180), Leg(me, nb, 180), Leg(nb, j, 180), Leg(j, jb, 180)]\n",
    "for leg in leglist:\n",
    "    outlst.append((round(leg.distance(), 2), leg.angle))"
   ]
  },
  {
   "cell_type": "code",
   "execution_count": 310,
   "metadata": {
    "collapsed": true
   },
   "outputs": [],
   "source": [
    "#Course('Group5', 'Course6', 'Jb', 'V', 'Pb', 'Gr', 'Ck', 'Pw', 'Pb')\n",
    "leglist = [Leg(jb, v, 180), Leg(v, pb, 180), Leg(pb, gr, 180), Leg(gr, ck, 180), Leg(ck, pw, 180), Leg(pw, pb, 180), Leg(pb, jb, 180)]\n",
    "for leg in leglist:\n",
    "    outlst.append((round(leg.distance(), 2), leg.angle))"
   ]
  },
  {
   "cell_type": "code",
   "execution_count": 311,
   "metadata": {
    "collapsed": true
   },
   "outputs": [],
   "source": [
    "#Course('Group5', 'Course7', 'Jb', 'Nb', 'J', 'Pb', 'Re', 'Nb', 'J', 'Pb')\n",
    "leglist = [Leg(jb, nb, 180), Leg(nb, j, 180), Leg(j, pb, 180), Leg(pb, re, 180), Leg(re, nb, 180), Leg(nb, j, 180), Leg(j, pb, 180), Leg(pb, jb, 180)]\n",
    "for leg in leglist:\n",
    "    outlst.append((round(leg.distance(), 2), leg.angle))"
   ]
  },
  {
   "cell_type": "code",
   "execution_count": 312,
   "metadata": {
    "collapsed": true
   },
   "outputs": [],
   "source": [
    "#Course('Group6', 'Course1', 'Jb','J', 'Pb')\n",
    "leglist = [Leg(jb, j, 135), Leg(j, pb, 135), Leg(pb, jb, 135)]\n",
    "for leg in leglist:\n",
    "    outlst.append((round(leg.distance(), 2), leg.angle))"
   ]
  },
  {
   "cell_type": "code",
   "execution_count": 313,
   "metadata": {
    "collapsed": true
   },
   "outputs": [],
   "source": [
    "#Course('Group6', 'Course2', 'Pw','Wt', 'Jb')\n",
    "leglist = [Leg(pw, wt, 135), Leg(wt, jb, 135), Leg(jb, pw, 135)]\n",
    "for leg in leglist:\n",
    "    outlst.append((round(leg.distance(), 2), leg.angle))"
   ]
  },
  {
   "cell_type": "code",
   "execution_count": 314,
   "metadata": {
    "collapsed": true
   },
   "outputs": [],
   "source": [
    "#Course('Group6', 'Course3', 'Pw','J', 'Pb')\n",
    "leglist = [Leg(pw, j, 135), Leg(j, pb, 135), Leg(pb, pw, 135)]\n",
    "for leg in leglist:\n",
    "    outlst.append((round(leg.distance(), 2), leg.angle))"
   ]
  },
  {
   "cell_type": "code",
   "execution_count": 315,
   "metadata": {
    "collapsed": true
   },
   "outputs": [],
   "source": [
    "#Course('Group6', 'Course4', 'Gr','J', 'Pb', 'Me', 'Gr', 'J', 'Me')\n",
    "leglist = [Leg(gr, j, 135), Leg(j, pb, 135), Leg(pb, me, 135),Leg(me, gr, 135), Leg(gr, j, 135), Leg(j, me, 135), Leg(me, gr, 135)]\n",
    "for leg in leglist:\n",
    "    outlst.append((round(leg.distance(), 2), leg.angle))"
   ]
  },
  {
   "cell_type": "code",
   "execution_count": 316,
   "metadata": {
    "collapsed": true
   },
   "outputs": [],
   "source": [
    "#Course('Group6', 'Course5', 'Gr','Wt', 'J', 'Ck', 'J', 'Pb')\n",
    "leglist = [Leg(gr, wt, 135), Leg(wt, j, 135), Leg(j, pb, 135),Leg(pb, gr, 135)]\n",
    "for leg in leglist:\n",
    "    outlst.append((round(leg.distance(), 2), leg.angle))"
   ]
  },
  {
   "cell_type": "code",
   "execution_count": 317,
   "metadata": {
    "collapsed": true
   },
   "outputs": [],
   "source": [
    "#Course('Group6', 'Course6', 'Gr','J', 'Re', 'Gr', 'Wt', 'Pb')\n",
    "leglist = [Leg(gr, j, 135), Leg(j, re, 135), Leg(re, gr, 135),Leg(gr, wt, 135), Leg(wt, pb, 135), Leg(pb, gr, 135)]\n",
    "for leg in leglist:\n",
    "    outlst.append((round(leg.distance(), 2), leg.angle))"
   ]
  },
  {
   "cell_type": "code",
   "execution_count": 318,
   "metadata": {
    "collapsed": true
   },
   "outputs": [],
   "source": [
    "#Course('Group6', 'Course7', 'Gr','Wt', 'J', 'Re', 'Ck', 'J', 'Pb')\n",
    "leglist = [Leg(gr, wt, 135), Leg(wt, j, 135), Leg(j, re, 135),Leg(re, ck, 135), Leg(ck, j, 135), Leg(j, pb, 135), Leg(pb, gr, 135)]\n",
    "for leg in leglist:\n",
    "    outlst.append((round(leg.distance(), 2), leg.angle))"
   ]
  },
  {
   "cell_type": "code",
   "execution_count": 319,
   "metadata": {
    "collapsed": true
   },
   "outputs": [],
   "source": [
    "#Course('Group7', 'Course1', 'We','Pb', 'Jb')\n",
    "leglist = [Leg(we, pb, 90), Leg(pb, jb, 90), Leg(jb, we, 90)]\n",
    "for leg in leglist:\n",
    "    outlst.append((round(leg.distance(), 2), leg.angle))"
   ]
  },
  {
   "cell_type": "code",
   "execution_count": 320,
   "metadata": {
    "collapsed": true
   },
   "outputs": [],
   "source": [
    "#Course('Group7', 'Course2', 'Pw','J', 'Wt', 'V')\n",
    "leglist = [Leg(pw, j, 90), Leg(j, wt, 90), Leg(wt, v, 90), Leg(v, pw, 90)]\n",
    "for leg in leglist:\n",
    "    outlst.append((round(leg.distance(), 2), leg.angle))"
   ]
  },
  {
   "cell_type": "code",
   "execution_count": 321,
   "metadata": {
    "collapsed": true
   },
   "outputs": [],
   "source": [
    "#Course('Group7', 'Course3', 'We','Pb', 'Me')\n",
    "leglist = [Leg(we, pb, 90), Leg(pb, me, 90), Leg(me, we, 90)]\n",
    "for leg in leglist:\n",
    "    outlst.append((round(leg.distance(), 2), leg.angle))"
   ]
  },
  {
   "cell_type": "code",
   "execution_count": 322,
   "metadata": {
    "collapsed": true
   },
   "outputs": [],
   "source": [
    "#Course('Group7', 'Course4', 'We','Pb', 'Ck')\n",
    "leglist = [Leg(we, pb, 90), Leg(pb, ck, 90), Leg(ck, we, 90)]\n",
    "for leg in leglist:\n",
    "    outlst.append((round(leg.distance(), 2), leg.angle))"
   ]
  },
  {
   "cell_type": "code",
   "execution_count": 323,
   "metadata": {
    "collapsed": true
   },
   "outputs": [],
   "source": [
    "#Course('Group7', 'Course5', 'We','Pb', 'Ck', 'We', 'Pb', 'Me')\n",
    "leglist = [Leg(we, pb, 90), Leg(pb, ck, 90), Leg(ck, we, 90), Leg(we, pb, 90), Leg(pb, me, 90), Leg(me, we, 90)]\n",
    "for leg in leglist:\n",
    "    outlst.append((round(leg.distance(), 2), leg.angle))"
   ]
  },
  {
   "cell_type": "code",
   "execution_count": 324,
   "metadata": {
    "collapsed": true
   },
   "outputs": [],
   "source": [
    "#Course('Group7', 'Course6', 'We','Pb', 'Re', 'Gr', 'We', 'Pb', 'Me')\n",
    "leglist = [Leg(we, pb, 90), Leg(pb, re, 90), Leg(re, gr, 90), Leg(gr, we, 90), Leg(we, pb, 90), Leg(pb, me, 90), Leg(me, we, 90)]\n",
    "for leg in leglist:\n",
    "    outlst.append((round(leg.distance(), 2), leg.angle))"
   ]
  },
  {
   "cell_type": "code",
   "execution_count": 325,
   "metadata": {},
   "outputs": [],
   "source": [
    "#Course('Group7', 'Course7', 'We','Pb', 'Re', 'Gr', 'We', 'Pb', 'Ck')\n",
    "leglist = [Leg(we, pb, 90), Leg(pb, re, 90), Leg(re, gr, 90), Leg(gr, we, 90), Leg(we, pb, 90), Leg(pb, ck, 90), Leg(me, ck, 90)]\n",
    "for leg in leglist:\n",
    "    outlst.append((round(leg.distance(), 2), leg.angle))"
   ]
  },
  {
   "cell_type": "code",
   "execution_count": 326,
   "metadata": {
    "collapsed": true
   },
   "outputs": [],
   "source": [
    "#Course('Group8', 'Course1', 'We', 'Jb', 'Me')\n",
    "leglist = [Leg(we, jb, 35), Leg(jb, me, 35), Leg(me, we, 35)]\n",
    "for leg in leglist:\n",
    "    outlst.append((round(leg.distance(), 2), leg.angle))"
   ]
  },
  {
   "cell_type": "code",
   "execution_count": 327,
   "metadata": {
    "collapsed": true
   },
   "outputs": [],
   "source": [
    "#Course('Group8', 'Course2', 'Pw','Jb', 'Ck')\n",
    "leglist = [Leg(pw, jb, 35), Leg(jb, ck, 35), Leg(ck, pw, 35)]\n",
    "for leg in leglist:\n",
    "    outlst.append((round(leg.distance(), 2), leg.angle))"
   ]
  },
  {
   "cell_type": "code",
   "execution_count": 328,
   "metadata": {
    "collapsed": true
   },
   "outputs": [],
   "source": [
    "#Course('Group8', 'Course3', 'Pw','Pb', 'Wt', 'V')\n",
    "leglist = [Leg(pw, pb, 35), Leg(pb, wt, 35), Leg(wt, v, 35), Leg(v, pw, 35)]\n",
    "for leg in leglist:\n",
    "    outlst.append((round(leg.distance(), 2), leg.angle))"
   ]
  },
  {
   "cell_type": "code",
   "execution_count": 329,
   "metadata": {
    "collapsed": true
   },
   "outputs": [],
   "source": [
    "#Course('Group8', 'Course4', 'Pw','Jb', 'Me', 'Pw', 'Nb', 'Jb', 'Me')\n",
    "leglist = [Leg(pw, jb, 35), Leg(jb, me, 35), Leg(pw, nb, 35), Leg(nb, jb, 35), Leg(jb, me, 35), Leg(me, pw, 35)]\n",
    "for leg in leglist:\n",
    "    outlst.append((round(leg.distance(), 2), leg.angle))"
   ]
  },
  {
   "cell_type": "code",
   "execution_count": 330,
   "metadata": {},
   "outputs": [],
   "source": [
    "#Course('Group8', 'Course5', 'Pw','Jb', 'Gr', 'Tu', 'Ck', 'Pw', 'Jb', 'Me')\n",
    "leglist = [Leg(pw, jb, 35), Leg(jb, gr, 35), Leg(gr, tu, 35), Leg(tu, ck, 35), Leg(ck, pw, 35), Leg(pw, jb, 35), Leg(jb, me, 35), Leg(me, pw, 35)]\n",
    "for leg in leglist:\n",
    "    outlst.append((round(leg.distance(), 2), leg.angle))"
   ]
  },
  {
   "cell_type": "code",
   "execution_count": 331,
   "metadata": {
    "collapsed": true
   },
   "outputs": [],
   "source": [
    "#Course('Group8', 'Course6', 'Pw','Jb', 'Gr', 'Tu', 'Ck', 'Pw', 'Jb', 'Re')\n",
    "leglist = [Leg(pw, jb, 35), Leg(jb, gr, 35), Leg(gr, tu, 35), Leg(tu, ck, 35), Leg(ck, pw, 35), Leg(pw, jb, 35), Leg(jb, re, 35), Leg(re, pw, 35)]\n",
    "for leg in leglist:\n",
    "    outlst.append((round(leg.distance(), 2), leg.angle))"
   ]
  },
  {
   "cell_type": "code",
   "execution_count": 332,
   "metadata": {
    "collapsed": true
   },
   "outputs": [],
   "source": [
    "#Course('Group8', 'Course7', 'Pw','Tu', 'Re', 'V', 'Jb', 'Ck')\n",
    "leglist = [Leg(pw, tu, 35), Leg(tu, re, 35), Leg(re, v, 35), Leg(v, jb, 35), Leg(jb, ck, 35), Leg(ck, pw, 35)]\n",
    "for leg in leglist:\n",
    "    outlst.append((round(leg.distance(), 2), leg.angle))"
   ]
  },
  {
   "cell_type": "code",
   "execution_count": null,
   "metadata": {},
   "outputs": [],
   "source": []
  },
  {
   "cell_type": "code",
   "execution_count": 334,
   "metadata": {},
   "outputs": [
    {
     "data": {
      "text/plain": [
       "[(0.8, 180),\n",
       " (0.72, 180),\n",
       " (1.11, 180),\n",
       " (1.08, 180),\n",
       " (1.29, 180),\n",
       " (0.4, 180),\n",
       " (1.08, 180),\n",
       " (1.29, 180),\n",
       " (0.4, 180),\n",
       " (1.17, 180),\n",
       " (0.44, 180),\n",
       " (1.2, 180),\n",
       " (1.26, 180),\n",
       " (0.88, 180),\n",
       " (0.9, 180),\n",
       " (0.96, 180),\n",
       " (0.72, 180),\n",
       " (0.7, 180),\n",
       " (0.96, 180),\n",
       " (0.44, 180),\n",
       " (0.9, 180),\n",
       " (0.96, 180),\n",
       " (0.8, 180),\n",
       " (0.22, 180),\n",
       " (1.27, 180),\n",
       " (0.88, 180),\n",
       " (0.7, 180),\n",
       " (0.66, 180),\n",
       " (0.8, 180),\n",
       " (0.72, 180),\n",
       " (1.11, 180),\n",
       " (1.41, 180),\n",
       " (0.85, 180),\n",
       " (0.44, 180),\n",
       " (1.2, 180),\n",
       " (1.17, 180),\n",
       " (0.44, 180),\n",
       " (0.9, 180),\n",
       " (1.11, 180),\n",
       " (0.7, 180),\n",
       " (0.66, 180),\n",
       " (0.95, 180),\n",
       " (0.96, 180),\n",
       " (0.36, 180),\n",
       " (0.71, 180),\n",
       " (1.43, 180),\n",
       " (1.32, 180),\n",
       " (0.55, 180),\n",
       " (0.95, 180),\n",
       " (0.8, 180),\n",
       " (0.66, 180),\n",
       " (1.61, 180),\n",
       " (0.68, 180),\n",
       " (1.11, 180),\n",
       " (1.43, 180),\n",
       " (0.44, 180),\n",
       " (1.11, 180),\n",
       " (1.43, 180),\n",
       " (0.7, 180),\n",
       " (0.71, 180),\n",
       " (1.43, 180),\n",
       " (0.7, 180),\n",
       " (0.44, 180),\n",
       " (0.66, 180),\n",
       " (1.09, 180),\n",
       " (0.9, 180),\n",
       " (0.42, 180),\n",
       " (1.09, 180),\n",
       " (0.98, 180),\n",
       " (1.1, 180),\n",
       " (1.09, 180),\n",
       " (0.98, 180),\n",
       " (0.4, 180),\n",
       " (1.09, 180),\n",
       " (0.44, 180),\n",
       " (0.61, 180),\n",
       " (0.8, 180),\n",
       " (0.35, 180),\n",
       " (0.42, 180),\n",
       " (1.09, 180),\n",
       " (0.64, 180),\n",
       " (0.92, 180),\n",
       " (1.09, 180),\n",
       " (0.44, 180),\n",
       " (0.61, 180),\n",
       " (1.4, 180),\n",
       " (1.09, 180),\n",
       " (0.96, 180),\n",
       " (0.76, 180),\n",
       " (1.09, 180),\n",
       " (0.98, 180),\n",
       " (0.4, 180),\n",
       " (0.76, 180),\n",
       " (1.09, 180),\n",
       " (0.64, 180),\n",
       " (0.55, 180),\n",
       " (0.42, 180),\n",
       " (1.09, 180),\n",
       " (0.97, 180),\n",
       " (0.42, 180),\n",
       " (1.1, 180),\n",
       " (1.09, 180),\n",
       " (0.44, 180),\n",
       " (0.61, 180),\n",
       " (0.8, 180),\n",
       " (0.76, 180),\n",
       " (0.85, 180),\n",
       " (0.66, 130.19675447703224),\n",
       " (0.8, 180),\n",
       " (0.85, 180),\n",
       " (0.59, 162.3188611947667),\n",
       " (1.08, 180),\n",
       " (0.85, 180),\n",
       " (0.55, 180),\n",
       " (0.4, 151.658108925951),\n",
       " (1.08, 180),\n",
       " (0.85, 180),\n",
       " (0.66, 130.19675447703224),\n",
       " (0.95, 180),\n",
       " (0.8, 180),\n",
       " (0.66, 130.19675447703224),\n",
       " (0.8, 180),\n",
       " (0.85, 180),\n",
       " (0.66, 130.19675447703224),\n",
       " (1.27, 180),\n",
       " (1.26, 180),\n",
       " (0.66, 130.19675447703224),\n",
       " (0.8, 180),\n",
       " (1.41, 180),\n",
       " (0.42, 125),\n",
       " (1.1, 170.11321295183873),\n",
       " (0.67, 170.83298622111434),\n",
       " (1.41, 180),\n",
       " (0.42, 125),\n",
       " (1.29, 180),\n",
       " (1.41, 180),\n",
       " (1.4, 158.79465129046037),\n",
       " (1.1, 170.11321295183873),\n",
       " (0.4, 151.658108925951),\n",
       " (1.08, 180),\n",
       " (0.85, 180),\n",
       " (0.66, 130.19675447703224),\n",
       " (0.8, 180),\n",
       " (0.8, 167.95154920611537),\n",
       " (0.85, 148.0386734154027),\n",
       " (0.31, 101.31489253683199),\n",
       " (0.8, 167.95154920611537),\n",
       " (0.66, 95.19675447703224),\n",
       " (0.95, 152.44601846711384),\n",
       " (1.32, 177.94346449758456),\n",
       " (0.4, 116.65810892595103),\n",
       " (1.17, 167.50774277456784),\n",
       " (0.96, 160.1920529593507),\n",
       " (0.55, 102.55067846348835),\n",
       " (0.42, 135.3234977687246),\n",
       " (0.93, 125.69090512646687),\n",
       " (0.96, 176.8269313224593),\n",
       " (0.55, 102.55067846348835),\n",
       " (0.42, 135.3234977687246),\n",
       " (0.67, 135.83298622111434),\n",
       " (1.29, 167.00017345681354),\n",
       " (0.4, 116.65810892595103),\n",
       " (1.17, 167.50774277456784),\n",
       " (0.96, 176.8269313224593),\n",
       " (0.55, 102.55067846348835),\n",
       " (0.8, 167.95154920610798),\n",
       " (1.29, 167.00017345681354),\n",
       " (1.1, 135.11321295183873),\n",
       " (1.25, 109.69035336076138),\n",
       " (0.44, 164.38764882366058),\n",
       " (1.12, 164.0446137311818),\n",
       " (0.98, 104.1338533997442),\n",
       " (0.67, 135.83298622111434),\n",
       " (0.96, 160.1920529593507),\n",
       " (0.55, 102.55067846348835),\n",
       " (0.42, 135.3234977687246),\n",
       " (1.6, 132.37861127899052),\n",
       " (1.55, 165.24303650596949),\n",
       " (0.55, 102.55067846348835),\n",
       " (0.42, 135.3234977687246),\n",
       " (0.67, 135.83298622111434),\n",
       " (0.8, 122.95154920610797),\n",
       " (0.42, 90.3234977687246),\n",
       " (0.67, 90.83298622111434),\n",
       " (0.59, 82.3188611947667),\n",
       " (1.08, 135),\n",
       " (0.85, 103.03867341540271),\n",
       " (0.66, 50.19675447703224),\n",
       " (0.42, 90.3234977687246),\n",
       " (0.98, 59.1338533997442),\n",
       " (1.11, 85.52365910967197),\n",
       " (0.42, 90.3234977687246),\n",
       " (0.93, 80.69090512646687),\n",
       " (0.44, 60.97267563266186),\n",
       " (1.11, 85.52365910967197),\n",
       " (0.95, 107.44601846711384),\n",
       " (0.44, 60.97267563266186),\n",
       " (1.2, 103.36464854342222),\n",
       " (0.35, 104.3209269509532),\n",
       " (0.42, 90.3234977687246),\n",
       " (1.25, 64.69035336076138),\n",
       " (1.11, 85.52365910967197),\n",
       " (1.61, 103.88549776273466),\n",
       " (0.68, 120.53255128092992),\n",
       " (1.2, 103.36464854342222),\n",
       " (0.76, 97.6104347747326),\n",
       " (1.25, 64.69035336076138),\n",
       " (1.2, 103.36464854342222),\n",
       " (0.35, 104.3209269509532),\n",
       " (1.61, 103.88549776273466),\n",
       " (0.25, 121.06074683658997),\n",
       " (1.43, 98.01002287743003),\n",
       " (0.42, 90.3234977687246),\n",
       " (1.25, 64.69035336076138),\n",
       " (1.09, 9.500074865418497),\n",
       " (0.67, 45.832986221114346),\n",
       " (0.66, 26.824730083426367),\n",
       " (0.66, 5.196754477032243),\n",
       " (0.35, 59.320926950953194),\n",
       " (0.4, 26.658108925951026),\n",
       " (0.55, 77.91151016062435),\n",
       " (1.09, 9.500074865418497),\n",
       " (0.93, 35.69090512646687),\n",
       " (0.47, 50.652710179453464),\n",
       " (1.09, 9.500074865418497),\n",
       " (1.47, 34.87399012030617),\n",
       " (0.7, 71.01599407588715),\n",
       " (1.09, 9.500074865418497),\n",
       " (1.47, 34.87399012030617),\n",
       " (0.7, 71.01599407588715),\n",
       " (1.09, 9.500074865418497),\n",
       " (0.93, 35.69090512646687),\n",
       " (0.47, 50.652710179453464),\n",
       " (1.09, 9.500074865418497),\n",
       " (1.6, 42.378611278990526),\n",
       " (0.68, 75.53255128092992),\n",
       " (0.27, 63.599999680989086),\n",
       " (1.09, 9.500074865418497),\n",
       " (0.93, 35.69090512646687),\n",
       " (0.47, 50.652710179453464),\n",
       " (1.09, 9.500074865418497),\n",
       " (1.6, 42.378611278990526),\n",
       " (0.68, 75.53255128092992),\n",
       " (0.27, 63.599999680989086),\n",
       " (1.09, 9.500074865418497),\n",
       " (1.47, 34.87399012030617),\n",
       " (0.61, 29.330094572242928),\n",
       " (0.66, 28.175269916573633),\n",
       " (0.31, 43.68510746316801),\n",
       " (0.47, 4.347289820546536),\n",
       " (0.85, 3.038673415402709),\n",
       " (0.9, 31.461612451474437),\n",
       " (1.12, 19.04461373118181),\n",
       " (0.98, 40.8661466002558),\n",
       " (0.76, 2.389565225267411),\n",
       " (0.4, 28.341891074048974),\n",
       " (0.55, 22.911510160624346),\n",
       " (0.85, 3.038673415402709),\n",
       " (0.31, 43.68510746316801),\n",
       " (0.22, 1.4170925587494807),\n",
       " (0.96, 15.19205295935068),\n",
       " (0.31, 43.68510746316801),\n",
       " (0.8, 22.951549206115384),\n",
       " (0.85, 3.038673415402709),\n",
       " (0.72, 50.23422374159682),\n",
       " (0.88, 17.11018733626279),\n",
       " (0.85, 46.85543794147729),\n",
       " (1.12, 19.04461373118181),\n",
       " (0.85, 3.038673415402709),\n",
       " (0.31, 43.68510746316801),\n",
       " (0.8, 22.951549206115384),\n",
       " (0.85, 3.038673415402709),\n",
       " (0.72, 50.23422374159682),\n",
       " (0.88, 17.11018733626279),\n",
       " (0.85, 46.85543794147729),\n",
       " (1.12, 19.04461373118181),\n",
       " (0.85, 3.038673415402709),\n",
       " (1.05, 20.091339506391535),\n",
       " (1.36, 20.890378675647362),\n",
       " (1.26, 16.730173977159925),\n",
       " (0.91, 47.391825966633206),\n",
       " (1.89, 25.153566613428037),\n",
       " (1.29, 22.000173456813542),\n",
       " (0.9, 31.461612451474437),\n",
       " (1.12, 19.04461373118181)]"
      ]
     },
     "execution_count": 334,
     "metadata": {},
     "output_type": "execute_result"
    }
   ],
   "source": [
    "outlst"
   ]
  },
  {
   "cell_type": "code",
   "execution_count": null,
   "metadata": {
    "collapsed": true
   },
   "outputs": [],
   "source": []
  }
 ],
 "metadata": {
  "kernelspec": {
   "display_name": "Python 3",
   "language": "python",
   "name": "python3"
  },
  "language_info": {
   "codemirror_mode": {
    "name": "ipython",
    "version": 3
   },
   "file_extension": ".py",
   "mimetype": "text/x-python",
   "name": "python",
   "nbconvert_exporter": "python",
   "pygments_lexer": "ipython3",
   "version": "3.6.3"
  }
 },
 "nbformat": 4,
 "nbformat_minor": 2
}
