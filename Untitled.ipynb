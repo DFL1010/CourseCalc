{
 "cells": [
  {
   "cell_type": "code",
   "execution_count": 10,
   "metadata": {},
   "outputs": [],
   "source": [
    "# Imports\n",
    "from Mark import Mark\n",
    "from Leg import Leg\n",
    "from Course import Course\n",
    "import matplotlib.pyplot as plt\n",
    "import pandas as pd\n",
    "import numpy as np"
   ]
  },
  {
   "cell_type": "code",
   "execution_count": 5,
   "metadata": {},
   "outputs": [],
   "source": [
    "%matplotlib inline"
   ]
  },
  {
   "cell_type": "code",
   "execution_count": 11,
   "metadata": {},
   "outputs": [
    {
     "data": {
      "text/html": [
       "<div>\n",
       "<style>\n",
       "    .dataframe thead tr:only-child th {\n",
       "        text-align: right;\n",
       "    }\n",
       "\n",
       "    .dataframe thead th {\n",
       "        text-align: left;\n",
       "    }\n",
       "\n",
       "    .dataframe tbody tr th {\n",
       "        vertical-align: top;\n",
       "    }\n",
       "</style>\n",
       "<table border=\"1\" class=\"dataframe\">\n",
       "  <thead>\n",
       "    <tr style=\"text-align: right;\">\n",
       "      <th></th>\n",
       "      <th>Code</th>\n",
       "      <th>Name</th>\n",
       "      <th>Lat</th>\n",
       "      <th>Long</th>\n",
       "    </tr>\n",
       "  </thead>\n",
       "  <tbody>\n",
       "    <tr>\n",
       "      <th>0</th>\n",
       "      <td>A</td>\n",
       "      <td>Northern</td>\n",
       "      <td>50.135</td>\n",
       "      <td>-5.042</td>\n",
       "    </tr>\n",
       "    <tr>\n",
       "      <th>1</th>\n",
       "      <td>B</td>\n",
       "      <td>Bay</td>\n",
       "      <td>50.108</td>\n",
       "      <td>-5.000</td>\n",
       "    </tr>\n",
       "    <tr>\n",
       "      <th>2</th>\n",
       "      <td>C</td>\n",
       "      <td>Central</td>\n",
       "      <td>50.120</td>\n",
       "      <td>-5.033</td>\n",
       "    </tr>\n",
       "    <tr>\n",
       "      <th>3</th>\n",
       "      <td>CN</td>\n",
       "      <td>SKB Sails</td>\n",
       "      <td>50.145</td>\n",
       "      <td>-5.020</td>\n",
       "    </tr>\n",
       "    <tr>\n",
       "      <th>4</th>\n",
       "      <td>GY</td>\n",
       "      <td>Choak’s Pasties</td>\n",
       "      <td>50.138</td>\n",
       "      <td>-5.060</td>\n",
       "    </tr>\n",
       "    <tr>\n",
       "      <th>5</th>\n",
       "      <td>H</td>\n",
       "      <td>Helston</td>\n",
       "      <td>50.093</td>\n",
       "      <td>-5.013</td>\n",
       "    </tr>\n",
       "    <tr>\n",
       "      <th>6</th>\n",
       "      <td>HD</td>\n",
       "      <td>Hine-Downing</td>\n",
       "      <td>50.138</td>\n",
       "      <td>-5.042</td>\n",
       "    </tr>\n",
       "    <tr>\n",
       "      <th>7</th>\n",
       "      <td>M</td>\n",
       "      <td>The Cove Restaurant</td>\n",
       "      <td>50.125</td>\n",
       "      <td>-5.080</td>\n",
       "    </tr>\n",
       "    <tr>\n",
       "      <th>8</th>\n",
       "      <td>N</td>\n",
       "      <td>Nare</td>\n",
       "      <td>50.089</td>\n",
       "      <td>-5.082</td>\n",
       "    </tr>\n",
       "    <tr>\n",
       "      <th>9</th>\n",
       "      <td>OW</td>\n",
       "      <td>Old Wall</td>\n",
       "      <td>50.123</td>\n",
       "      <td>-5.009</td>\n",
       "    </tr>\n",
       "  </tbody>\n",
       "</table>\n",
       "</div>"
      ],
      "text/plain": [
       "  Code                 Name     Lat   Long\n",
       "0    A             Northern  50.135 -5.042\n",
       "1    B                  Bay  50.108 -5.000\n",
       "2    C              Central  50.120 -5.033\n",
       "3   CN            SKB Sails  50.145 -5.020\n",
       "4   GY      Choak’s Pasties  50.138 -5.060\n",
       "5    H              Helston  50.093 -5.013\n",
       "6   HD         Hine-Downing  50.138 -5.042\n",
       "7    M  The Cove Restaurant  50.125 -5.080\n",
       "8    N                 Nare  50.089 -5.082\n",
       "9   OW             Old Wall  50.123 -5.009"
      ]
     },
     "execution_count": 11,
     "metadata": {},
     "output_type": "execute_result"
    }
   ],
   "source": [
    "buoys = pd.read_csv(\"Buoys10.csv\")\n",
    "buoys[:10]"
   ]
  },
  {
   "cell_type": "code",
   "execution_count": null,
   "metadata": {
    "collapsed": true
   },
   "outputs": [],
   "source": []
  }
 ],
 "metadata": {
  "kernelspec": {
   "display_name": "Python 3",
   "language": "python",
   "name": "python3"
  },
  "language_info": {
   "codemirror_mode": {
    "name": "ipython",
    "version": 3
   },
   "file_extension": ".py",
   "mimetype": "text/x-python",
   "name": "python",
   "nbconvert_exporter": "python",
   "pygments_lexer": "ipython3",
   "version": "3.6.3"
  }
 },
 "nbformat": 4,
 "nbformat_minor": 2
}
